{
 "cells": [
  {
   "cell_type": "code",
   "id": "initial_id",
   "metadata": {
    "collapsed": true,
    "ExecuteTime": {
     "end_time": "2024-12-23T21:39:02.484330Z",
     "start_time": "2024-12-23T21:39:01.775535Z"
    }
   },
   "source": "import pandas as pd",
   "outputs": [],
   "execution_count": 1
  },
  {
   "metadata": {
    "ExecuteTime": {
     "end_time": "2024-12-23T21:41:45.198748Z",
     "start_time": "2024-12-23T21:41:45.180748Z"
    }
   },
   "cell_type": "code",
   "source": [
    "# Create a DataFrame with the sentences\n",
    "data = {\n",
    "    \"text\": [\n",
    "        \"The cat sat on the mat.\",\n",
    "        \"The dog barked loudly at the cat.\",\n",
    "        \"The mat was soft and comfortable.\",\n",
    "        \"Cats and dogs are common household pets.\",\n",
    "        \"The dog chased the ball across the yard.\"\n",
    "    ], \"output\":[1,1,0,0,1]\n",
    "}\n",
    "data = pd.DataFrame(data)"
   ],
   "id": "9bd1461ad5530d6d",
   "outputs": [],
   "execution_count": 4
  },
  {
   "metadata": {
    "ExecuteTime": {
     "end_time": "2024-12-23T21:41:46.336377Z",
     "start_time": "2024-12-23T21:41:46.308376Z"
    }
   },
   "cell_type": "code",
   "source": "data",
   "id": "74b606dd916caf6a",
   "outputs": [
    {
     "data": {
      "text/plain": [
       "                                       text  output\n",
       "0                   The cat sat on the mat.       1\n",
       "1         The dog barked loudly at the cat.       1\n",
       "2         The mat was soft and comfortable.       0\n",
       "3  Cats and dogs are common household pets.       0\n",
       "4  The dog chased the ball across the yard.       1"
      ],
      "text/html": [
       "<div>\n",
       "<style scoped>\n",
       "    .dataframe tbody tr th:only-of-type {\n",
       "        vertical-align: middle;\n",
       "    }\n",
       "\n",
       "    .dataframe tbody tr th {\n",
       "        vertical-align: top;\n",
       "    }\n",
       "\n",
       "    .dataframe thead th {\n",
       "        text-align: right;\n",
       "    }\n",
       "</style>\n",
       "<table border=\"1\" class=\"dataframe\">\n",
       "  <thead>\n",
       "    <tr style=\"text-align: right;\">\n",
       "      <th></th>\n",
       "      <th>text</th>\n",
       "      <th>output</th>\n",
       "    </tr>\n",
       "  </thead>\n",
       "  <tbody>\n",
       "    <tr>\n",
       "      <th>0</th>\n",
       "      <td>The cat sat on the mat.</td>\n",
       "      <td>1</td>\n",
       "    </tr>\n",
       "    <tr>\n",
       "      <th>1</th>\n",
       "      <td>The dog barked loudly at the cat.</td>\n",
       "      <td>1</td>\n",
       "    </tr>\n",
       "    <tr>\n",
       "      <th>2</th>\n",
       "      <td>The mat was soft and comfortable.</td>\n",
       "      <td>0</td>\n",
       "    </tr>\n",
       "    <tr>\n",
       "      <th>3</th>\n",
       "      <td>Cats and dogs are common household pets.</td>\n",
       "      <td>0</td>\n",
       "    </tr>\n",
       "    <tr>\n",
       "      <th>4</th>\n",
       "      <td>The dog chased the ball across the yard.</td>\n",
       "      <td>1</td>\n",
       "    </tr>\n",
       "  </tbody>\n",
       "</table>\n",
       "</div>"
      ]
     },
     "execution_count": 5,
     "metadata": {},
     "output_type": "execute_result"
    }
   ],
   "execution_count": 5
  },
  {
   "metadata": {
    "ExecuteTime": {
     "end_time": "2024-12-23T23:01:17.270396Z",
     "start_time": "2024-12-23T23:01:17.255812Z"
    }
   },
   "cell_type": "code",
   "source": [
    "from sklearn.feature_extraction.text import CountVectorizer\n",
    "\n",
    "##Bag of Words\n",
    "bow = CountVectorizer()\n",
    "matrix = bow.fit_transform(data['text'])\n",
    "matrix"
   ],
   "id": "3721b32b471e3218",
   "outputs": [
    {
     "data": {
      "text/plain": [
       "<Compressed Sparse Row sparse matrix of dtype 'int64'\n",
       "\twith 30 stored elements and shape (5, 23)>"
      ]
     },
     "execution_count": 7,
     "metadata": {},
     "output_type": "execute_result"
    }
   ],
   "execution_count": 7
  },
  {
   "metadata": {
    "ExecuteTime": {
     "end_time": "2024-12-23T23:01:24.948427Z",
     "start_time": "2024-12-23T23:01:24.926716Z"
    }
   },
   "cell_type": "code",
   "source": "bow.vocabulary_",
   "id": "637c5228f81a0356",
   "outputs": [
    {
     "data": {
      "text/plain": [
       "{'the': 20,\n",
       " 'cat': 6,\n",
       " 'sat': 18,\n",
       " 'on': 16,\n",
       " 'mat': 15,\n",
       " 'dog': 11,\n",
       " 'barked': 5,\n",
       " 'loudly': 14,\n",
       " 'at': 3,\n",
       " 'was': 21,\n",
       " 'soft': 19,\n",
       " 'and': 1,\n",
       " 'comfortable': 9,\n",
       " 'cats': 7,\n",
       " 'dogs': 12,\n",
       " 'are': 2,\n",
       " 'common': 10,\n",
       " 'household': 13,\n",
       " 'pets': 17,\n",
       " 'chased': 8,\n",
       " 'ball': 4,\n",
       " 'across': 0,\n",
       " 'yard': 22}"
      ]
     },
     "execution_count": 8,
     "metadata": {},
     "output_type": "execute_result"
    }
   ],
   "execution_count": 8
  },
  {
   "metadata": {
    "ExecuteTime": {
     "end_time": "2024-12-23T23:17:53.537437Z",
     "start_time": "2024-12-23T23:17:53.524993Z"
    }
   },
   "cell_type": "code",
   "source": [
    "###Bi-gram\n",
    "bigram = CountVectorizer(ngram_range=(2,2))\n",
    "matrix = bigram.fit_transform(data['text'])\n",
    "matrix"
   ],
   "id": "2ca77dcae8c3f13f",
   "outputs": [
    {
     "data": {
      "text/plain": [
       "<Compressed Sparse Row sparse matrix of dtype 'int64'\n",
       "\twith 29 stored elements and shape (5, 26)>"
      ]
     },
     "execution_count": 9,
     "metadata": {},
     "output_type": "execute_result"
    }
   ],
   "execution_count": 9
  },
  {
   "metadata": {
    "ExecuteTime": {
     "end_time": "2024-12-23T23:18:01.072131Z",
     "start_time": "2024-12-23T23:18:01.058888Z"
    }
   },
   "cell_type": "code",
   "source": "bigram.vocabulary_",
   "id": "e18324c3ceff3dd",
   "outputs": [
    {
     "data": {
      "text/plain": [
       "{'the cat': 21,\n",
       " 'cat sat': 7,\n",
       " 'sat on': 18,\n",
       " 'on the': 17,\n",
       " 'the mat': 23,\n",
       " 'the dog': 22,\n",
       " 'dog barked': 11,\n",
       " 'barked loudly': 6,\n",
       " 'loudly at': 15,\n",
       " 'at the': 4,\n",
       " 'mat was': 16,\n",
       " 'was soft': 25,\n",
       " 'soft and': 19,\n",
       " 'and comfortable': 1,\n",
       " 'cats and': 8,\n",
       " 'and dogs': 2,\n",
       " 'dogs are': 13,\n",
       " 'are common': 3,\n",
       " 'common household': 10,\n",
       " 'household pets': 14,\n",
       " 'dog chased': 12,\n",
       " 'chased the': 9,\n",
       " 'the ball': 20,\n",
       " 'ball across': 5,\n",
       " 'across the': 0,\n",
       " 'the yard': 24}"
      ]
     },
     "execution_count": 10,
     "metadata": {},
     "output_type": "execute_result"
    }
   ],
   "execution_count": 10
  },
  {
   "metadata": {
    "ExecuteTime": {
     "end_time": "2024-12-23T23:25:10.439150Z",
     "start_time": "2024-12-23T23:25:10.415649Z"
    }
   },
   "cell_type": "code",
   "source": [
    "###Tri-gram\n",
    "\n",
    "trigram = CountVectorizer(ngram_range=(3,3))\n",
    "matrix = trigram.fit_transform(data['text'])\n",
    "matrix"
   ],
   "id": "8e9bac62cf701352",
   "outputs": [
    {
     "data": {
      "text/plain": [
       "<Compressed Sparse Row sparse matrix of dtype 'int64'\n",
       "\twith 24 stored elements and shape (5, 24)>"
      ]
     },
     "execution_count": 11,
     "metadata": {},
     "output_type": "execute_result"
    }
   ],
   "execution_count": 11
  },
  {
   "metadata": {
    "ExecuteTime": {
     "end_time": "2024-12-23T23:25:19.811457Z",
     "start_time": "2024-12-23T23:25:19.791849Z"
    }
   },
   "cell_type": "code",
   "source": "trigram.vocabulary_",
   "id": "174b73e2035e6e05",
   "outputs": [
    {
     "data": {
      "text/plain": [
       "{'the cat sat': 19,\n",
       " 'cat sat on': 6,\n",
       " 'sat on the': 16,\n",
       " 'on the mat': 15,\n",
       " 'the dog barked': 20,\n",
       " 'dog barked loudly': 10,\n",
       " 'barked loudly at': 5,\n",
       " 'loudly at the': 13,\n",
       " 'at the cat': 3,\n",
       " 'the mat was': 22,\n",
       " 'mat was soft': 14,\n",
       " 'was soft and': 23,\n",
       " 'soft and comfortable': 17,\n",
       " 'cats and dogs': 7,\n",
       " 'and dogs are': 1,\n",
       " 'dogs are common': 12,\n",
       " 'are common household': 2,\n",
       " 'common household pets': 9,\n",
       " 'the dog chased': 21,\n",
       " 'dog chased the': 11,\n",
       " 'chased the ball': 8,\n",
       " 'the ball across': 18,\n",
       " 'ball across the': 4,\n",
       " 'across the yard': 0}"
      ]
     },
     "execution_count": 12,
     "metadata": {},
     "output_type": "execute_result"
    }
   ],
   "execution_count": 12
  },
  {
   "metadata": {
    "ExecuteTime": {
     "end_time": "2024-12-24T00:01:44.516358Z",
     "start_time": "2024-12-24T00:01:44.493350Z"
    }
   },
   "cell_type": "code",
   "source": [
    "###mix-gram\n",
    "mixgram = CountVectorizer(ngram_range=(1,3))\n",
    "matrix = mixgram.fit_transform(data['text'])\n",
    "matrix"
   ],
   "id": "d9d82a3a9327ee38",
   "outputs": [
    {
     "data": {
      "text/plain": [
       "<Compressed Sparse Row sparse matrix of dtype 'int64'\n",
       "\twith 83 stored elements and shape (5, 73)>"
      ]
     },
     "execution_count": 13,
     "metadata": {},
     "output_type": "execute_result"
    }
   ],
   "execution_count": 13
  },
  {
   "metadata": {
    "ExecuteTime": {
     "end_time": "2024-12-24T00:01:53.079387Z",
     "start_time": "2024-12-24T00:01:53.056604Z"
    }
   },
   "cell_type": "code",
   "source": "mixgram.vocabulary_",
   "id": "3ed0215a0bf92031",
   "outputs": [
    {
     "data": {
      "text/plain": [
       "{'the': 58,\n",
       " 'cat': 19,\n",
       " 'sat': 52,\n",
       " 'on': 48,\n",
       " 'mat': 45,\n",
       " 'the cat': 61,\n",
       " 'cat sat': 20,\n",
       " 'sat on': 53,\n",
       " 'on the': 49,\n",
       " 'the mat': 66,\n",
       " 'the cat sat': 62,\n",
       " 'cat sat on': 21,\n",
       " 'sat on the': 54,\n",
       " 'on the mat': 50,\n",
       " 'dog': 32,\n",
       " 'barked': 16,\n",
       " 'loudly': 42,\n",
       " 'at': 10,\n",
       " 'the dog': 63,\n",
       " 'dog barked': 33,\n",
       " 'barked loudly': 17,\n",
       " 'loudly at': 43,\n",
       " 'at the': 11,\n",
       " 'the dog barked': 64,\n",
       " 'dog barked loudly': 34,\n",
       " 'barked loudly at': 18,\n",
       " 'loudly at the': 44,\n",
       " 'at the cat': 12,\n",
       " 'was': 69,\n",
       " 'soft': 55,\n",
       " 'and': 3,\n",
       " 'comfortable': 28,\n",
       " 'mat was': 46,\n",
       " 'was soft': 70,\n",
       " 'soft and': 56,\n",
       " 'and comfortable': 4,\n",
       " 'the mat was': 67,\n",
       " 'mat was soft': 47,\n",
       " 'was soft and': 71,\n",
       " 'soft and comfortable': 57,\n",
       " 'cats': 22,\n",
       " 'dogs': 37,\n",
       " 'are': 7,\n",
       " 'common': 29,\n",
       " 'household': 40,\n",
       " 'pets': 51,\n",
       " 'cats and': 23,\n",
       " 'and dogs': 5,\n",
       " 'dogs are': 38,\n",
       " 'are common': 8,\n",
       " 'common household': 30,\n",
       " 'household pets': 41,\n",
       " 'cats and dogs': 24,\n",
       " 'and dogs are': 6,\n",
       " 'dogs are common': 39,\n",
       " 'are common household': 9,\n",
       " 'common household pets': 31,\n",
       " 'chased': 25,\n",
       " 'ball': 13,\n",
       " 'across': 0,\n",
       " 'yard': 72,\n",
       " 'dog chased': 35,\n",
       " 'chased the': 26,\n",
       " 'the ball': 59,\n",
       " 'ball across': 14,\n",
       " 'across the': 1,\n",
       " 'the yard': 68,\n",
       " 'the dog chased': 65,\n",
       " 'dog chased the': 36,\n",
       " 'chased the ball': 27,\n",
       " 'the ball across': 60,\n",
       " 'ball across the': 15,\n",
       " 'across the yard': 2}"
      ]
     },
     "execution_count": 14,
     "metadata": {},
     "output_type": "execute_result"
    }
   ],
   "execution_count": 14
  },
  {
   "metadata": {
    "ExecuteTime": {
     "end_time": "2024-12-24T00:49:42.525325Z",
     "start_time": "2024-12-24T00:49:42.503328Z"
    }
   },
   "cell_type": "code",
   "source": "## OHE -> only for categorical data",
   "id": "3ee0f45f727d688a",
   "outputs": [],
   "execution_count": 16
  },
  {
   "metadata": {
    "ExecuteTime": {
     "end_time": "2024-12-24T00:55:27.901103Z",
     "start_time": "2024-12-24T00:55:27.872133Z"
    }
   },
   "cell_type": "code",
   "source": [
    "## TF-IDF \n",
    "\n",
    "from sklearn.feature_extraction.text import TfidfVectorizer\n",
    "tfidf = TfidfVectorizer()\n",
    "output = tfidf.fit_transform(data['text'])\n",
    "tfidf_df = pd.DataFrame(output.toarray(), columns=tfidf.get_feature_names_out())\n",
    "tfidf_df\n"
   ],
   "id": "3fa1b53b4dbdc264",
   "outputs": [
    {
     "data": {
      "text/plain": [
       "     across       and       are        at      ball    barked       cat  \\\n",
       "0  0.000000  0.000000  0.000000  0.000000  0.000000  0.000000  0.377343   \n",
       "1  0.000000  0.000000  0.000000  0.423659  0.000000  0.423659  0.341806   \n",
       "2  0.000000  0.375386  0.000000  0.000000  0.000000  0.000000  0.000000   \n",
       "3  0.000000  0.312840  0.387757  0.000000  0.000000  0.000000  0.000000   \n",
       "4  0.364966  0.000000  0.000000  0.000000  0.364966  0.000000  0.000000   \n",
       "\n",
       "       cats    chased  comfortable  ...  household    loudly       mat  \\\n",
       "0  0.000000  0.000000     0.000000  ...   0.000000  0.000000  0.377343   \n",
       "1  0.000000  0.000000     0.000000  ...   0.000000  0.423659  0.000000   \n",
       "2  0.000000  0.000000     0.465281  ...   0.000000  0.000000  0.375386   \n",
       "3  0.387757  0.000000     0.000000  ...   0.387757  0.000000  0.000000   \n",
       "4  0.000000  0.364966     0.000000  ...   0.000000  0.000000  0.000000   \n",
       "\n",
       "         on      pets       sat      soft       the       was      yard  \n",
       "0  0.467707  0.000000  0.467707  0.000000  0.526996  0.000000  0.000000  \n",
       "1  0.000000  0.000000  0.000000  0.000000  0.477364  0.000000  0.000000  \n",
       "2  0.000000  0.000000  0.000000  0.465281  0.262131  0.465281  0.000000  \n",
       "3  0.000000  0.387757  0.000000  0.000000  0.000000  0.000000  0.000000  \n",
       "4  0.000000  0.000000  0.000000  0.000000  0.616846  0.000000  0.364966  \n",
       "\n",
       "[5 rows x 23 columns]"
      ],
      "text/html": [
       "<div>\n",
       "<style scoped>\n",
       "    .dataframe tbody tr th:only-of-type {\n",
       "        vertical-align: middle;\n",
       "    }\n",
       "\n",
       "    .dataframe tbody tr th {\n",
       "        vertical-align: top;\n",
       "    }\n",
       "\n",
       "    .dataframe thead th {\n",
       "        text-align: right;\n",
       "    }\n",
       "</style>\n",
       "<table border=\"1\" class=\"dataframe\">\n",
       "  <thead>\n",
       "    <tr style=\"text-align: right;\">\n",
       "      <th></th>\n",
       "      <th>across</th>\n",
       "      <th>and</th>\n",
       "      <th>are</th>\n",
       "      <th>at</th>\n",
       "      <th>ball</th>\n",
       "      <th>barked</th>\n",
       "      <th>cat</th>\n",
       "      <th>cats</th>\n",
       "      <th>chased</th>\n",
       "      <th>comfortable</th>\n",
       "      <th>...</th>\n",
       "      <th>household</th>\n",
       "      <th>loudly</th>\n",
       "      <th>mat</th>\n",
       "      <th>on</th>\n",
       "      <th>pets</th>\n",
       "      <th>sat</th>\n",
       "      <th>soft</th>\n",
       "      <th>the</th>\n",
       "      <th>was</th>\n",
       "      <th>yard</th>\n",
       "    </tr>\n",
       "  </thead>\n",
       "  <tbody>\n",
       "    <tr>\n",
       "      <th>0</th>\n",
       "      <td>0.000000</td>\n",
       "      <td>0.000000</td>\n",
       "      <td>0.000000</td>\n",
       "      <td>0.000000</td>\n",
       "      <td>0.000000</td>\n",
       "      <td>0.000000</td>\n",
       "      <td>0.377343</td>\n",
       "      <td>0.000000</td>\n",
       "      <td>0.000000</td>\n",
       "      <td>0.000000</td>\n",
       "      <td>...</td>\n",
       "      <td>0.000000</td>\n",
       "      <td>0.000000</td>\n",
       "      <td>0.377343</td>\n",
       "      <td>0.467707</td>\n",
       "      <td>0.000000</td>\n",
       "      <td>0.467707</td>\n",
       "      <td>0.000000</td>\n",
       "      <td>0.526996</td>\n",
       "      <td>0.000000</td>\n",
       "      <td>0.000000</td>\n",
       "    </tr>\n",
       "    <tr>\n",
       "      <th>1</th>\n",
       "      <td>0.000000</td>\n",
       "      <td>0.000000</td>\n",
       "      <td>0.000000</td>\n",
       "      <td>0.423659</td>\n",
       "      <td>0.000000</td>\n",
       "      <td>0.423659</td>\n",
       "      <td>0.341806</td>\n",
       "      <td>0.000000</td>\n",
       "      <td>0.000000</td>\n",
       "      <td>0.000000</td>\n",
       "      <td>...</td>\n",
       "      <td>0.000000</td>\n",
       "      <td>0.423659</td>\n",
       "      <td>0.000000</td>\n",
       "      <td>0.000000</td>\n",
       "      <td>0.000000</td>\n",
       "      <td>0.000000</td>\n",
       "      <td>0.000000</td>\n",
       "      <td>0.477364</td>\n",
       "      <td>0.000000</td>\n",
       "      <td>0.000000</td>\n",
       "    </tr>\n",
       "    <tr>\n",
       "      <th>2</th>\n",
       "      <td>0.000000</td>\n",
       "      <td>0.375386</td>\n",
       "      <td>0.000000</td>\n",
       "      <td>0.000000</td>\n",
       "      <td>0.000000</td>\n",
       "      <td>0.000000</td>\n",
       "      <td>0.000000</td>\n",
       "      <td>0.000000</td>\n",
       "      <td>0.000000</td>\n",
       "      <td>0.465281</td>\n",
       "      <td>...</td>\n",
       "      <td>0.000000</td>\n",
       "      <td>0.000000</td>\n",
       "      <td>0.375386</td>\n",
       "      <td>0.000000</td>\n",
       "      <td>0.000000</td>\n",
       "      <td>0.000000</td>\n",
       "      <td>0.465281</td>\n",
       "      <td>0.262131</td>\n",
       "      <td>0.465281</td>\n",
       "      <td>0.000000</td>\n",
       "    </tr>\n",
       "    <tr>\n",
       "      <th>3</th>\n",
       "      <td>0.000000</td>\n",
       "      <td>0.312840</td>\n",
       "      <td>0.387757</td>\n",
       "      <td>0.000000</td>\n",
       "      <td>0.000000</td>\n",
       "      <td>0.000000</td>\n",
       "      <td>0.000000</td>\n",
       "      <td>0.387757</td>\n",
       "      <td>0.000000</td>\n",
       "      <td>0.000000</td>\n",
       "      <td>...</td>\n",
       "      <td>0.387757</td>\n",
       "      <td>0.000000</td>\n",
       "      <td>0.000000</td>\n",
       "      <td>0.000000</td>\n",
       "      <td>0.387757</td>\n",
       "      <td>0.000000</td>\n",
       "      <td>0.000000</td>\n",
       "      <td>0.000000</td>\n",
       "      <td>0.000000</td>\n",
       "      <td>0.000000</td>\n",
       "    </tr>\n",
       "    <tr>\n",
       "      <th>4</th>\n",
       "      <td>0.364966</td>\n",
       "      <td>0.000000</td>\n",
       "      <td>0.000000</td>\n",
       "      <td>0.000000</td>\n",
       "      <td>0.364966</td>\n",
       "      <td>0.000000</td>\n",
       "      <td>0.000000</td>\n",
       "      <td>0.000000</td>\n",
       "      <td>0.364966</td>\n",
       "      <td>0.000000</td>\n",
       "      <td>...</td>\n",
       "      <td>0.000000</td>\n",
       "      <td>0.000000</td>\n",
       "      <td>0.000000</td>\n",
       "      <td>0.000000</td>\n",
       "      <td>0.000000</td>\n",
       "      <td>0.000000</td>\n",
       "      <td>0.000000</td>\n",
       "      <td>0.616846</td>\n",
       "      <td>0.000000</td>\n",
       "      <td>0.364966</td>\n",
       "    </tr>\n",
       "  </tbody>\n",
       "</table>\n",
       "<p>5 rows × 23 columns</p>\n",
       "</div>"
      ]
     },
     "execution_count": 23,
     "metadata": {},
     "output_type": "execute_result"
    }
   ],
   "execution_count": 23
  },
  {
   "metadata": {
    "ExecuteTime": {
     "end_time": "2024-12-24T00:55:39.366015Z",
     "start_time": "2024-12-24T00:55:39.348296Z"
    }
   },
   "cell_type": "code",
   "source": "data['text']",
   "id": "ee5740732dfc6d93",
   "outputs": [
    {
     "data": {
      "text/plain": [
       "0                     The cat sat on the mat.\n",
       "1           The dog barked loudly at the cat.\n",
       "2           The mat was soft and comfortable.\n",
       "3    Cats and dogs are common household pets.\n",
       "4    The dog chased the ball across the yard.\n",
       "Name: text, dtype: object"
      ]
     },
     "execution_count": 24,
     "metadata": {},
     "output_type": "execute_result"
    }
   ],
   "execution_count": 24
  },
  {
   "metadata": {
    "ExecuteTime": {
     "end_time": "2024-12-24T01:02:00.289514Z",
     "start_time": "2024-12-24T01:02:00.267570Z"
    }
   },
   "cell_type": "code",
   "source": "tfidf.idf_",
   "id": "aeeec9468770bc29",
   "outputs": [
    {
     "data": {
      "text/plain": [
       "array([2.09861229, 1.69314718, 2.09861229, 2.09861229, 2.09861229,\n",
       "       2.09861229, 1.69314718, 2.09861229, 2.09861229, 2.09861229,\n",
       "       2.09861229, 1.69314718, 2.09861229, 2.09861229, 2.09861229,\n",
       "       1.69314718, 2.09861229, 2.09861229, 2.09861229, 2.09861229,\n",
       "       1.18232156, 2.09861229, 2.09861229])"
      ]
     },
     "execution_count": 26,
     "metadata": {},
     "output_type": "execute_result"
    }
   ],
   "execution_count": 26
  },
  {
   "metadata": {},
   "cell_type": "code",
   "outputs": [],
   "execution_count": null,
   "source": "",
   "id": "1d530f8541b285c4"
  }
 ],
 "metadata": {
  "kernelspec": {
   "display_name": "Python 3",
   "language": "python",
   "name": "python3"
  },
  "language_info": {
   "codemirror_mode": {
    "name": "ipython",
    "version": 2
   },
   "file_extension": ".py",
   "mimetype": "text/x-python",
   "name": "python",
   "nbconvert_exporter": "python",
   "pygments_lexer": "ipython2",
   "version": "2.7.6"
  }
 },
 "nbformat": 4,
 "nbformat_minor": 5
}
