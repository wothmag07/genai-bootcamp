{
 "cells": [
  {
   "cell_type": "code",
   "id": "initial_id",
   "metadata": {
    "collapsed": true,
    "ExecuteTime": {
     "end_time": "2025-01-03T22:05:58.205447Z",
     "start_time": "2025-01-03T22:05:50.440287Z"
    }
   },
   "source": [
    "#Sentence embedding using sentence-transformers\n",
    "\n",
    "from sentence_transformers import SentenceTransformer"
   ],
   "outputs": [],
   "execution_count": 1
  },
  {
   "metadata": {
    "ExecuteTime": {
     "end_time": "2025-01-03T22:06:00.455401Z",
     "start_time": "2025-01-03T22:05:58.205447Z"
    }
   },
   "cell_type": "code",
   "source": "model = SentenceTransformer('all-MiniLM-L6-v1')",
   "id": "ac8b7c8932def4ff",
   "outputs": [],
   "execution_count": 2
  },
  {
   "metadata": {
    "ExecuteTime": {
     "end_time": "2025-01-03T22:06:00.470623Z",
     "start_time": "2025-01-03T22:06:00.458484Z"
    }
   },
   "cell_type": "code",
   "source": [
    "sentences = [\n",
    "    \"The sun rises in the east.\",\n",
    "    \"She likes to drink coffee in the morning.\",\n",
    "    \"The library is closed today.\",\n",
    "    \"He is learning how to play chess.\",\n",
    "    \"A smartphone can be used for many tasks.\",\n",
    "    \"The train arrives at the station at 5 PM.\",\n",
    "    \"This restaurant serves Italian cuisine.\",\n",
    "    \"The garden is full of blooming flowers.\",\n",
    "    \"They went hiking in the mountains.\",\n",
    "    \"Dogs are loyal and friendly animals.\"\n",
    "]\n"
   ],
   "id": "f6247a95565da2fa",
   "outputs": [],
   "execution_count": 3
  },
  {
   "metadata": {
    "ExecuteTime": {
     "end_time": "2025-01-03T22:06:00.485620Z",
     "start_time": "2025-01-03T22:06:00.472578Z"
    }
   },
   "cell_type": "code",
   "source": "sentences[1]",
   "id": "3232435881159240",
   "outputs": [
    {
     "data": {
      "text/plain": [
       "'She likes to drink coffee in the morning.'"
      ]
     },
     "execution_count": 4,
     "metadata": {},
     "output_type": "execute_result"
    }
   ],
   "execution_count": 4
  },
  {
   "metadata": {
    "ExecuteTime": {
     "end_time": "2025-01-03T22:06:00.736538Z",
     "start_time": "2025-01-03T22:06:00.485620Z"
    }
   },
   "cell_type": "code",
   "source": "model.encode(sentences[1]).shape",
   "id": "9803f6cbb92e4fbf",
   "outputs": [
    {
     "name": "stderr",
     "output_type": "stream",
     "text": [
      "C:\\Users\\USER\\miniconda3\\envs\\genai\\lib\\site-packages\\transformers\\models\\bert\\modeling_bert.py:440: UserWarning: 1Torch was not compiled with flash attention. (Triggered internally at ..\\aten\\src\\ATen\\native\\transformers\\cuda\\sdp_utils.cpp:455.)\n",
      "  attn_output = torch.nn.functional.scaled_dot_product_attention(\n"
     ]
    },
    {
     "data": {
      "text/plain": [
       "(384,)"
      ]
     },
     "execution_count": 5,
     "metadata": {},
     "output_type": "execute_result"
    }
   ],
   "execution_count": 5
  },
  {
   "metadata": {
    "ExecuteTime": {
     "end_time": "2025-01-03T22:06:00.768170Z",
     "start_time": "2025-01-03T22:06:00.738546Z"
    }
   },
   "cell_type": "code",
   "source": "model.encode(sentences[1])",
   "id": "6dd721ff5cd3d246",
   "outputs": [
    {
     "data": {
      "text/plain": [
       "array([-2.99095605e-02,  8.41932744e-02,  7.67828301e-02,  1.16709635e-01,\n",
       "        1.45563064e-02,  5.48812523e-02,  8.67540091e-02,  2.13659741e-02,\n",
       "        4.34669293e-02, -8.26784782e-03, -7.68265203e-02, -8.85108113e-02,\n",
       "       -6.03900738e-02,  1.49077391e-02,  1.41177969e-02,  9.01747961e-03,\n",
       "        1.06593505e-01, -4.33018357e-02,  7.16544092e-02,  2.53117029e-02,\n",
       "        4.90440475e-03, -5.74979819e-02,  1.49467126e-01,  8.54823887e-02,\n",
       "        4.62870635e-02,  2.96713989e-02,  7.67933950e-02, -4.97615561e-02,\n",
       "       -1.90670714e-02, -1.26746502e-02, -5.99069595e-02,  3.70195098e-02,\n",
       "       -2.74604075e-02, -4.89989482e-03, -2.23603398e-02,  3.12405434e-02,\n",
       "        8.97318572e-02,  5.24966717e-02, -1.28071662e-02,  1.07276507e-01,\n",
       "       -3.82454582e-02, -8.32148492e-02,  3.27273607e-02, -1.26611814e-02,\n",
       "       -1.31124854e-01, -6.49928302e-03,  4.71679047e-02, -1.79691128e-02,\n",
       "        8.42707157e-02,  8.44834000e-03, -7.93756396e-02, -9.10261944e-02,\n",
       "       -6.70957491e-02, -5.30059189e-02,  4.92771156e-02,  5.25600053e-02,\n",
       "       -1.26784518e-02,  1.71169806e-02,  1.06692657e-01,  9.50251222e-02,\n",
       "       -3.16678025e-02,  3.91373374e-02,  2.44407430e-02,  7.07302839e-02,\n",
       "        7.99236447e-03, -3.78992707e-02, -8.13667402e-02,  4.09184620e-02,\n",
       "       -2.79307216e-02,  9.21739920e-05,  3.14893015e-02,  9.04123709e-02,\n",
       "       -2.05438621e-02, -6.73809946e-02, -3.75948027e-02,  1.71268750e-02,\n",
       "        8.11406821e-02, -2.10802257e-02,  9.41108093e-02,  6.32268563e-02,\n",
       "       -3.42057720e-02,  5.37377037e-02,  5.93809262e-02,  5.79678901e-02,\n",
       "       -2.64187343e-02,  3.98843735e-02, -8.87998194e-03, -1.85122900e-02,\n",
       "        1.87072698e-02, -9.47308242e-02, -3.77280638e-02, -1.01282699e-02,\n",
       "       -2.38960818e-03,  1.89484060e-02,  2.06121542e-02, -3.57341990e-02,\n",
       "       -1.91342104e-02, -4.74532433e-02,  4.75154854e-02, -1.44194392e-02,\n",
       "        3.25346775e-02,  9.97820646e-02, -2.67668837e-03,  7.75547400e-02,\n",
       "       -2.04230919e-02, -5.54368235e-02, -2.79028546e-02, -2.53723171e-02,\n",
       "        2.36721765e-02, -7.97579512e-02,  3.69813405e-02, -5.12875132e-02,\n",
       "       -2.50846092e-02, -2.34074937e-03,  2.16448400e-02,  3.79148945e-02,\n",
       "        9.73879546e-03, -6.74516857e-02, -7.45043717e-03,  4.18245494e-02,\n",
       "       -4.72628213e-02, -9.73163173e-02,  1.65856406e-02, -8.45825896e-02,\n",
       "       -2.05088500e-02, -6.89955205e-02,  8.04854557e-02,  4.18514927e-33,\n",
       "        1.20633580e-02, -2.91561764e-02,  2.73443642e-03,  7.28562251e-02,\n",
       "        4.72387634e-02,  4.34866808e-02,  1.64631866e-02,  5.75403310e-02,\n",
       "       -2.00685039e-02, -1.20221600e-02, -2.65842909e-03,  2.69374754e-02,\n",
       "       -9.10233706e-02, -8.18029605e-03, -2.65455432e-02, -2.97732409e-02,\n",
       "       -1.61203761e-02,  8.34807232e-02, -3.71434316e-02, -2.16952655e-02,\n",
       "        7.48825520e-02,  2.64366362e-02,  7.37297758e-02,  3.08497306e-02,\n",
       "        7.46823754e-03, -7.56232738e-02, -2.05991212e-02,  1.45970127e-02,\n",
       "       -2.34928224e-02,  7.17862183e-03,  3.20353322e-02, -4.16266806e-02,\n",
       "        8.57038831e-04,  1.08395452e-02, -2.49690074e-03, -5.12425266e-02,\n",
       "       -7.35966954e-03,  1.89721510e-02, -4.62623127e-02,  2.08179057e-02,\n",
       "       -3.83046716e-02,  2.32836399e-02,  4.04243357e-02, -8.02427754e-02,\n",
       "       -7.72411600e-02,  2.33793445e-02,  4.79535758e-02, -2.41520740e-02,\n",
       "       -5.85690932e-03, -3.92423868e-02, -4.73856106e-02, -5.00304289e-02,\n",
       "        6.39837468e-03,  8.76793936e-02, -2.45488025e-02, -2.71956939e-02,\n",
       "        1.57449804e-02,  2.21021622e-02,  9.86661464e-02,  3.84733379e-02,\n",
       "       -7.28212968e-02, -3.69946994e-02, -5.26333116e-02, -3.07884812e-02,\n",
       "        1.00228027e-01,  3.16875800e-03,  2.37206165e-02, -6.23531677e-02,\n",
       "        6.34656101e-02, -9.83871426e-03,  4.83355746e-02,  7.33226910e-02,\n",
       "        1.52375838e-02, -4.69820201e-02, -5.16884737e-02,  1.53958490e-02,\n",
       "        9.27677825e-02,  1.16718458e-02, -1.67392741e-03, -9.23283100e-02,\n",
       "        5.65626547e-02, -2.59170048e-02,  8.82315338e-02,  6.98418841e-02,\n",
       "       -3.17896940e-02,  5.00011928e-02,  8.57773237e-03,  1.70389451e-02,\n",
       "       -6.29133582e-02, -1.00980513e-02, -6.71849698e-02,  6.13317639e-02,\n",
       "        4.76506464e-02,  1.07929716e-02, -4.69924584e-02,  3.49023999e-33,\n",
       "        1.30238131e-01, -5.01808673e-02, -6.28875047e-02, -4.82237376e-02,\n",
       "       -4.23901267e-02, -1.18451510e-02,  1.38130710e-02,  1.48238102e-03,\n",
       "       -1.43326381e-02, -3.27200592e-02,  8.59488547e-02,  1.37158493e-02,\n",
       "        1.00818612e-01,  3.95671763e-02, -2.20305882e-02, -6.55997992e-02,\n",
       "        8.14471319e-02,  6.06941525e-04,  5.55651961e-03, -1.26116239e-02,\n",
       "       -2.41477285e-02, -1.08920718e-02, -5.36904708e-02, -2.23187041e-02,\n",
       "        9.66970921e-02,  3.06764129e-03,  1.74640566e-02, -3.09927221e-02,\n",
       "       -1.09533064e-01,  1.91811100e-02, -6.07253760e-02,  6.34251907e-02,\n",
       "       -2.73318961e-02, -1.73329338e-02,  8.85528605e-03,  1.19518777e-02,\n",
       "       -1.00417428e-01, -8.07842016e-02,  1.51342638e-02,  3.31238173e-02,\n",
       "        4.37600091e-02, -1.06070861e-02,  6.23947717e-02, -2.56552198e-03,\n",
       "        8.16988871e-02,  2.68750675e-02, -3.38659808e-02,  4.75823041e-03,\n",
       "       -1.08770719e-02,  3.14808637e-02,  6.84341192e-02, -9.16234404e-02,\n",
       "        2.66645011e-02,  5.34614641e-03, -1.96201149e-02, -2.38754880e-02,\n",
       "       -4.00904007e-02,  2.27247290e-02, -4.39776033e-02,  3.88194062e-02,\n",
       "       -3.19070294e-02,  1.45551562e-02, -4.61963192e-02, -1.34897912e-02,\n",
       "       -9.20801330e-03, -1.70508698e-02, -1.07369065e-01, -7.78405787e-03,\n",
       "        2.84224991e-02, -7.78516987e-03,  1.21218681e-01, -3.41508687e-02,\n",
       "       -7.65282428e-03,  5.04143722e-02, -2.19421070e-02,  7.85789713e-02,\n",
       "        1.47265280e-02, -5.60817793e-02,  2.94902213e-02, -2.99904123e-02,\n",
       "       -1.12024032e-01,  1.89373270e-02,  1.46192098e-02, -5.08927368e-03,\n",
       "       -3.63121219e-02, -4.51515876e-02,  9.19286907e-03, -4.90313657e-02,\n",
       "        6.23337142e-02,  2.47236956e-02,  3.93602997e-03, -4.76125143e-02,\n",
       "       -5.05914465e-02,  2.28452682e-02,  8.27287696e-03, -1.74073019e-20,\n",
       "       -4.86910343e-02, -8.38413388e-02,  4.18505957e-03,  5.07145673e-02,\n",
       "       -1.49855372e-02, -2.56741811e-02, -1.97702684e-02, -7.43746012e-02,\n",
       "        1.79772712e-02, -3.10604665e-02,  4.24385034e-02,  2.01832913e-02,\n",
       "        3.65192182e-02, -6.67695468e-03, -4.63764369e-02, -3.22789736e-02,\n",
       "        7.02622086e-02,  1.42645255e-01, -3.38568911e-02,  8.46345257e-03,\n",
       "        9.49699990e-03, -5.55645004e-02,  6.55688494e-02, -3.24095264e-02,\n",
       "       -4.22006426e-03, -4.85779457e-02, -3.64244319e-02,  2.87182648e-02,\n",
       "        2.28703562e-02,  1.36513552e-02, -2.37426944e-02,  8.50488842e-02,\n",
       "       -5.74975200e-02,  7.05541531e-03, -4.16533612e-02, -1.56699829e-02,\n",
       "        5.79333231e-02,  4.00722064e-02, -1.19925693e-01, -3.27586681e-02,\n",
       "       -2.29540281e-02, -4.90262210e-02, -8.46306458e-02, -7.39377216e-02,\n",
       "       -9.23134834e-02, -3.13355625e-02, -1.80034768e-02, -8.69214460e-02,\n",
       "       -3.87152322e-02,  5.29635102e-02, -1.00131026e-02, -3.47709730e-02,\n",
       "        1.05235890e-01,  7.35510048e-03, -6.83873817e-02, -3.85657214e-02,\n",
       "        5.80919795e-02, -8.50038137e-03, -4.94145602e-02, -7.65631488e-03,\n",
       "       -5.85086131e-03,  7.39488006e-02,  5.09990752e-02, -4.89849858e-02],\n",
       "      dtype=float32)"
      ]
     },
     "execution_count": 6,
     "metadata": {},
     "output_type": "execute_result"
    }
   ],
   "execution_count": 6
  },
  {
   "metadata": {
    "ExecuteTime": {
     "end_time": "2025-01-03T22:06:01.798281Z",
     "start_time": "2025-01-03T22:06:00.770471Z"
    }
   },
   "cell_type": "code",
   "source": [
    "#Sentence embedding using Langchain\n",
    "\n",
    "from langchain.embeddings import HuggingFaceEmbeddings"
   ],
   "id": "a1a22a646a20ab07",
   "outputs": [],
   "execution_count": 7
  },
  {
   "metadata": {
    "ExecuteTime": {
     "end_time": "2025-01-03T22:06:01.814109Z",
     "start_time": "2025-01-03T22:06:01.799781Z"
    }
   },
   "cell_type": "code",
   "source": "embedding_model = \"sentence-transformers/all-MiniLM-L6-v1\"",
   "id": "b4a84f452e5b9a",
   "outputs": [],
   "execution_count": 8
  },
  {
   "metadata": {
    "ExecuteTime": {
     "end_time": "2025-01-03T22:06:03.049324Z",
     "start_time": "2025-01-03T22:06:01.814109Z"
    }
   },
   "cell_type": "code",
   "source": [
    "model_kwargs = {\"device\": \"cpu\"}\n",
    "\n",
    "embeddings = HuggingFaceEmbeddings(model_name = embedding_model, model_kwargs = model_kwargs)"
   ],
   "id": "4762a9ca217e57e5",
   "outputs": [
    {
     "name": "stderr",
     "output_type": "stream",
     "text": [
      "C:\\Users\\USER\\AppData\\Local\\Temp\\ipykernel_30176\\4058773246.py:3: LangChainDeprecationWarning: The class `HuggingFaceEmbeddings` was deprecated in LangChain 0.2.2 and will be removed in 1.0. An updated version of the class exists in the :class:`~langchain-huggingface package and should be used instead. To use it run `pip install -U :class:`~langchain-huggingface` and import as `from :class:`~langchain_huggingface import HuggingFaceEmbeddings``.\n",
      "  embeddings = HuggingFaceEmbeddings(model_name = embedding_model, model_kwargs = model_kwargs)\n"
     ]
    }
   ],
   "execution_count": 9
  },
  {
   "metadata": {
    "ExecuteTime": {
     "end_time": "2025-01-03T22:06:03.128389Z",
     "start_time": "2025-01-03T22:06:03.049324Z"
    }
   },
   "cell_type": "code",
   "source": "embedding_vector = embeddings.embed_query(sentences[1])",
   "id": "f32f0620fcba0ce0",
   "outputs": [],
   "execution_count": 10
  },
  {
   "metadata": {
    "ExecuteTime": {
     "end_time": "2025-01-03T22:06:03.144213Z",
     "start_time": "2025-01-03T22:06:03.130399Z"
    }
   },
   "cell_type": "code",
   "source": "len(embedding_vector)",
   "id": "3e5c1bb8ca192754",
   "outputs": [
    {
     "data": {
      "text/plain": [
       "384"
      ]
     },
     "execution_count": 11,
     "metadata": {},
     "output_type": "execute_result"
    }
   ],
   "execution_count": 11
  },
  {
   "metadata": {
    "ExecuteTime": {
     "end_time": "2025-01-03T22:06:03.160034Z",
     "start_time": "2025-01-03T22:06:03.148231Z"
    }
   },
   "cell_type": "code",
   "source": [
    "#Sentence embedding using Transformers - Huggingface\n",
    "\n",
    "import torch\n",
    "from transformers import BertTokenizer, BertModel\n",
    "import random"
   ],
   "id": "e840be16eeb5d4d7",
   "outputs": [],
   "execution_count": 12
  },
  {
   "metadata": {
    "ExecuteTime": {
     "end_time": "2025-01-03T22:06:03.192104Z",
     "start_time": "2025-01-03T22:06:03.164052Z"
    }
   },
   "cell_type": "code",
   "source": [
    "from sklearn.metrics.pairwise import cosine_similarity\n",
    "random_seed=42\n",
    "random.seed(random_seed)\n",
    "torch.manual_seed(random_seed)"
   ],
   "id": "3cc3af00c65fda90",
   "outputs": [
    {
     "data": {
      "text/plain": [
       "<torch._C.Generator at 0x15af1a652d0>"
      ]
     },
     "execution_count": 13,
     "metadata": {},
     "output_type": "execute_result"
    }
   ],
   "execution_count": 13
  },
  {
   "metadata": {
    "ExecuteTime": {
     "end_time": "2025-01-03T22:06:03.704058Z",
     "start_time": "2025-01-03T22:06:03.200138Z"
    }
   },
   "cell_type": "code",
   "source": [
    "tokenizer=BertTokenizer.from_pretrained(\"bert-base-uncased\")\n",
    "model=BertModel.from_pretrained(\"bert-base-uncased\")"
   ],
   "id": "89aea268f87b716f",
   "outputs": [],
   "execution_count": 14
  },
  {
   "metadata": {
    "ExecuteTime": {
     "end_time": "2025-01-03T22:06:50.219891Z",
     "start_time": "2025-01-03T22:06:50.213953Z"
    }
   },
   "cell_type": "code",
   "source": "encode_val=tokenizer.batch_encode_plus([sentences[1]],padding=True,truncation=True,return_tensors=\"pt\",add_special_tokens=True)",
   "id": "f46e1d4bd9928f2c",
   "outputs": [],
   "execution_count": 16
  },
  {
   "metadata": {
    "ExecuteTime": {
     "end_time": "2025-01-03T22:06:51.218738Z",
     "start_time": "2025-01-03T22:06:51.203961Z"
    }
   },
   "cell_type": "code",
   "source": "encode_val",
   "id": "adb274535c278910",
   "outputs": [
    {
     "data": {
      "text/plain": [
       "{'input_ids': tensor([[ 101, 2016, 7777, 2000, 4392, 4157, 1999, 1996, 2851, 1012,  102]]), 'token_type_ids': tensor([[0, 0, 0, 0, 0, 0, 0, 0, 0, 0, 0]]), 'attention_mask': tensor([[1, 1, 1, 1, 1, 1, 1, 1, 1, 1, 1]])}"
      ]
     },
     "execution_count": 17,
     "metadata": {},
     "output_type": "execute_result"
    }
   ],
   "execution_count": 17
  },
  {
   "metadata": {
    "ExecuteTime": {
     "end_time": "2025-01-03T22:07:06.438310Z",
     "start_time": "2025-01-03T22:07:06.422575Z"
    }
   },
   "cell_type": "code",
   "source": [
    "input_ids = encode_val['input_ids']\n",
    "attention_mask = encode_val['attention_mask']\n",
    "input_ids"
   ],
   "id": "c32a9779209d1ed9",
   "outputs": [
    {
     "data": {
      "text/plain": [
       "tensor([[ 101, 2016, 7777, 2000, 4392, 4157, 1999, 1996, 2851, 1012,  102]])"
      ]
     },
     "execution_count": 19,
     "metadata": {},
     "output_type": "execute_result"
    }
   ],
   "execution_count": 19
  },
  {
   "metadata": {
    "ExecuteTime": {
     "end_time": "2025-01-03T22:07:09.506221Z",
     "start_time": "2025-01-03T22:07:09.325567Z"
    }
   },
   "cell_type": "code",
   "source": [
    "with torch.no_grad():\n",
    "  outputs=model(input_ids, attention_mask=attention_mask)\n",
    "  word_embeddings=outputs.last_hidden_state"
   ],
   "id": "dbea5ac5b611d9c8",
   "outputs": [],
   "execution_count": 20
  },
  {
   "metadata": {
    "ExecuteTime": {
     "end_time": "2025-01-03T22:07:10.846518Z",
     "start_time": "2025-01-03T22:07:10.827005Z"
    }
   },
   "cell_type": "code",
   "source": "word_embeddings",
   "id": "bd3691bb5db7cc0",
   "outputs": [
    {
     "data": {
      "text/plain": [
       "tensor([[[ 0.1900, -0.1599, -0.2854,  ..., -0.1887,  0.7630,  0.5221],\n",
       "         [ 0.6969, -0.6491, -0.2434,  ..., -0.4393,  0.9461,  0.1149],\n",
       "         [ 0.6999,  0.1731,  0.4656,  ..., -0.1875,  0.3450,  0.0663],\n",
       "         ...,\n",
       "         [ 0.2275,  0.5197,  0.1349,  ..., -1.0104,  0.2131, -1.0064],\n",
       "         [ 0.3403, -0.5184, -0.3848,  ..., -0.0019,  0.9498, -0.4972],\n",
       "         [ 0.7428,  0.0048,  0.1801,  ...,  0.1981,  0.0301, -0.5262]]])"
      ]
     },
     "execution_count": 21,
     "metadata": {},
     "output_type": "execute_result"
    }
   ],
   "execution_count": 21
  },
  {
   "metadata": {
    "ExecuteTime": {
     "end_time": "2025-01-03T22:07:12.218315Z",
     "start_time": "2025-01-03T22:07:12.189035Z"
    }
   },
   "cell_type": "code",
   "source": "word_embeddings.shape",
   "id": "e1e986f50b2b3cff",
   "outputs": [
    {
     "data": {
      "text/plain": [
       "torch.Size([1, 11, 768])"
      ]
     },
     "execution_count": 22,
     "metadata": {},
     "output_type": "execute_result"
    }
   ],
   "execution_count": 22
  },
  {
   "metadata": {
    "ExecuteTime": {
     "end_time": "2025-01-03T22:07:13.485812Z",
     "start_time": "2025-01-03T22:07:13.470445Z"
    }
   },
   "cell_type": "code",
   "source": [
    "decode_val = tokenizer.decode(input_ids[0], skip_special_tokens=True)\n",
    "decode_val"
   ],
   "id": "144cd6fad20adc73",
   "outputs": [
    {
     "data": {
      "text/plain": [
       "'she likes to drink coffee in the morning.'"
      ]
     },
     "execution_count": 23,
     "metadata": {},
     "output_type": "execute_result"
    }
   ],
   "execution_count": 23
  },
  {
   "metadata": {},
   "cell_type": "code",
   "source": "",
   "id": "12126f382ffe0b02",
   "outputs": [],
   "execution_count": null
  }
 ],
 "metadata": {
  "kernelspec": {
   "display_name": "Python 3",
   "language": "python",
   "name": "python3"
  },
  "language_info": {
   "codemirror_mode": {
    "name": "ipython",
    "version": 2
   },
   "file_extension": ".py",
   "mimetype": "text/x-python",
   "name": "python",
   "nbconvert_exporter": "python",
   "pygments_lexer": "ipython2",
   "version": "2.7.6"
  }
 },
 "nbformat": 4,
 "nbformat_minor": 5
}
