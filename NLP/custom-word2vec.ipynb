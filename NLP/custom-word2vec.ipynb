{
 "cells": [
  {
   "cell_type": "code",
   "execution_count": 1,
   "id": "initial_id",
   "metadata": {
    "ExecuteTime": {
     "end_time": "2024-12-27T01:40:38.812037Z",
     "start_time": "2024-12-27T01:40:34.631152Z"
    },
    "collapsed": true
   },
   "outputs": [],
   "source": [
    "import pandas as pd\n",
    "import numpy as np\n",
    "import matplotlib.pyplot as plt\n",
    "import os\n",
    "import gensim\n",
    "import nltk"
   ]
  },
  {
   "cell_type": "code",
   "execution_count": 2,
   "id": "8b30d1b536055c34",
   "metadata": {
    "ExecuteTime": {
     "end_time": "2024-12-27T01:40:45.513862Z",
     "start_time": "2024-12-27T01:40:38.816345Z"
    }
   },
   "outputs": [
    {
     "name": "stderr",
     "output_type": "stream",
     "text": [
      "[nltk_data] Downloading collection 'all'\n",
      "[nltk_data]    | \n",
      "[nltk_data]    | Downloading package abc to\n",
      "[nltk_data]    |     C:\\Users\\USER\\AppData\\Roaming\\nltk_data...\n",
      "[nltk_data]    |   Package abc is already up-to-date!\n",
      "[nltk_data]    | Downloading package alpino to\n",
      "[nltk_data]    |     C:\\Users\\USER\\AppData\\Roaming\\nltk_data...\n",
      "[nltk_data]    |   Package alpino is already up-to-date!\n",
      "[nltk_data]    | Downloading package averaged_perceptron_tagger to\n",
      "[nltk_data]    |     C:\\Users\\USER\\AppData\\Roaming\\nltk_data...\n",
      "[nltk_data]    |   Package averaged_perceptron_tagger is already up-\n",
      "[nltk_data]    |       to-date!\n",
      "[nltk_data]    | Downloading package averaged_perceptron_tagger_eng to\n",
      "[nltk_data]    |     C:\\Users\\USER\\AppData\\Roaming\\nltk_data...\n",
      "[nltk_data]    |   Package averaged_perceptron_tagger_eng is already\n",
      "[nltk_data]    |       up-to-date!\n",
      "[nltk_data]    | Downloading package averaged_perceptron_tagger_ru to\n",
      "[nltk_data]    |     C:\\Users\\USER\\AppData\\Roaming\\nltk_data...\n",
      "[nltk_data]    |   Package averaged_perceptron_tagger_ru is already\n",
      "[nltk_data]    |       up-to-date!\n",
      "[nltk_data]    | Downloading package averaged_perceptron_tagger_rus to\n",
      "[nltk_data]    |     C:\\Users\\USER\\AppData\\Roaming\\nltk_data...\n",
      "[nltk_data]    |   Package averaged_perceptron_tagger_rus is already\n",
      "[nltk_data]    |       up-to-date!\n",
      "[nltk_data]    | Downloading package basque_grammars to\n",
      "[nltk_data]    |     C:\\Users\\USER\\AppData\\Roaming\\nltk_data...\n",
      "[nltk_data]    |   Package basque_grammars is already up-to-date!\n",
      "[nltk_data]    | Downloading package bcp47 to\n",
      "[nltk_data]    |     C:\\Users\\USER\\AppData\\Roaming\\nltk_data...\n",
      "[nltk_data]    |   Package bcp47 is already up-to-date!\n",
      "[nltk_data]    | Downloading package biocreative_ppi to\n",
      "[nltk_data]    |     C:\\Users\\USER\\AppData\\Roaming\\nltk_data...\n",
      "[nltk_data]    |   Package biocreative_ppi is already up-to-date!\n",
      "[nltk_data]    | Downloading package bllip_wsj_no_aux to\n",
      "[nltk_data]    |     C:\\Users\\USER\\AppData\\Roaming\\nltk_data...\n",
      "[nltk_data]    |   Package bllip_wsj_no_aux is already up-to-date!\n",
      "[nltk_data]    | Downloading package book_grammars to\n",
      "[nltk_data]    |     C:\\Users\\USER\\AppData\\Roaming\\nltk_data...\n",
      "[nltk_data]    |   Package book_grammars is already up-to-date!\n",
      "[nltk_data]    | Downloading package brown to\n",
      "[nltk_data]    |     C:\\Users\\USER\\AppData\\Roaming\\nltk_data...\n",
      "[nltk_data]    |   Package brown is already up-to-date!\n",
      "[nltk_data]    | Downloading package brown_tei to\n",
      "[nltk_data]    |     C:\\Users\\USER\\AppData\\Roaming\\nltk_data...\n",
      "[nltk_data]    |   Package brown_tei is already up-to-date!\n",
      "[nltk_data]    | Downloading package cess_cat to\n",
      "[nltk_data]    |     C:\\Users\\USER\\AppData\\Roaming\\nltk_data...\n",
      "[nltk_data]    |   Package cess_cat is already up-to-date!\n",
      "[nltk_data]    | Downloading package cess_esp to\n",
      "[nltk_data]    |     C:\\Users\\USER\\AppData\\Roaming\\nltk_data...\n",
      "[nltk_data]    |   Package cess_esp is already up-to-date!\n",
      "[nltk_data]    | Downloading package chat80 to\n",
      "[nltk_data]    |     C:\\Users\\USER\\AppData\\Roaming\\nltk_data...\n",
      "[nltk_data]    |   Package chat80 is already up-to-date!\n",
      "[nltk_data]    | Downloading package city_database to\n",
      "[nltk_data]    |     C:\\Users\\USER\\AppData\\Roaming\\nltk_data...\n",
      "[nltk_data]    |   Package city_database is already up-to-date!\n",
      "[nltk_data]    | Downloading package cmudict to\n",
      "[nltk_data]    |     C:\\Users\\USER\\AppData\\Roaming\\nltk_data...\n",
      "[nltk_data]    |   Package cmudict is already up-to-date!\n",
      "[nltk_data]    | Downloading package comparative_sentences to\n",
      "[nltk_data]    |     C:\\Users\\USER\\AppData\\Roaming\\nltk_data...\n",
      "[nltk_data]    |   Package comparative_sentences is already up-to-\n",
      "[nltk_data]    |       date!\n",
      "[nltk_data]    | Downloading package comtrans to\n",
      "[nltk_data]    |     C:\\Users\\USER\\AppData\\Roaming\\nltk_data...\n",
      "[nltk_data]    |   Package comtrans is already up-to-date!\n",
      "[nltk_data]    | Downloading package conll2000 to\n",
      "[nltk_data]    |     C:\\Users\\USER\\AppData\\Roaming\\nltk_data...\n",
      "[nltk_data]    |   Package conll2000 is already up-to-date!\n",
      "[nltk_data]    | Downloading package conll2002 to\n",
      "[nltk_data]    |     C:\\Users\\USER\\AppData\\Roaming\\nltk_data...\n",
      "[nltk_data]    |   Package conll2002 is already up-to-date!\n",
      "[nltk_data]    | Downloading package conll2007 to\n",
      "[nltk_data]    |     C:\\Users\\USER\\AppData\\Roaming\\nltk_data...\n",
      "[nltk_data]    |   Package conll2007 is already up-to-date!\n",
      "[nltk_data]    | Downloading package crubadan to\n",
      "[nltk_data]    |     C:\\Users\\USER\\AppData\\Roaming\\nltk_data...\n",
      "[nltk_data]    |   Package crubadan is already up-to-date!\n",
      "[nltk_data]    | Downloading package dependency_treebank to\n",
      "[nltk_data]    |     C:\\Users\\USER\\AppData\\Roaming\\nltk_data...\n",
      "[nltk_data]    |   Package dependency_treebank is already up-to-date!\n",
      "[nltk_data]    | Downloading package dolch to\n",
      "[nltk_data]    |     C:\\Users\\USER\\AppData\\Roaming\\nltk_data...\n",
      "[nltk_data]    |   Package dolch is already up-to-date!\n",
      "[nltk_data]    | Downloading package europarl_raw to\n",
      "[nltk_data]    |     C:\\Users\\USER\\AppData\\Roaming\\nltk_data...\n",
      "[nltk_data]    |   Package europarl_raw is already up-to-date!\n",
      "[nltk_data]    | Downloading package extended_omw to\n",
      "[nltk_data]    |     C:\\Users\\USER\\AppData\\Roaming\\nltk_data...\n",
      "[nltk_data]    |   Package extended_omw is already up-to-date!\n",
      "[nltk_data]    | Downloading package floresta to\n",
      "[nltk_data]    |     C:\\Users\\USER\\AppData\\Roaming\\nltk_data...\n",
      "[nltk_data]    |   Package floresta is already up-to-date!\n",
      "[nltk_data]    | Downloading package framenet_v15 to\n",
      "[nltk_data]    |     C:\\Users\\USER\\AppData\\Roaming\\nltk_data...\n",
      "[nltk_data]    |   Package framenet_v15 is already up-to-date!\n",
      "[nltk_data]    | Downloading package framenet_v17 to\n",
      "[nltk_data]    |     C:\\Users\\USER\\AppData\\Roaming\\nltk_data...\n",
      "[nltk_data]    |   Package framenet_v17 is already up-to-date!\n",
      "[nltk_data]    | Downloading package gazetteers to\n",
      "[nltk_data]    |     C:\\Users\\USER\\AppData\\Roaming\\nltk_data...\n",
      "[nltk_data]    |   Package gazetteers is already up-to-date!\n",
      "[nltk_data]    | Downloading package genesis to\n",
      "[nltk_data]    |     C:\\Users\\USER\\AppData\\Roaming\\nltk_data...\n",
      "[nltk_data]    |   Package genesis is already up-to-date!\n",
      "[nltk_data]    | Downloading package gutenberg to\n",
      "[nltk_data]    |     C:\\Users\\USER\\AppData\\Roaming\\nltk_data...\n",
      "[nltk_data]    |   Package gutenberg is already up-to-date!\n",
      "[nltk_data]    | Downloading package ieer to\n",
      "[nltk_data]    |     C:\\Users\\USER\\AppData\\Roaming\\nltk_data...\n",
      "[nltk_data]    |   Package ieer is already up-to-date!\n",
      "[nltk_data]    | Downloading package inaugural to\n",
      "[nltk_data]    |     C:\\Users\\USER\\AppData\\Roaming\\nltk_data...\n",
      "[nltk_data]    |   Package inaugural is already up-to-date!\n",
      "[nltk_data]    | Downloading package indian to\n",
      "[nltk_data]    |     C:\\Users\\USER\\AppData\\Roaming\\nltk_data...\n",
      "[nltk_data]    |   Package indian is already up-to-date!\n",
      "[nltk_data]    | Downloading package jeita to\n",
      "[nltk_data]    |     C:\\Users\\USER\\AppData\\Roaming\\nltk_data...\n",
      "[nltk_data]    |   Package jeita is already up-to-date!\n",
      "[nltk_data]    | Downloading package kimmo to\n",
      "[nltk_data]    |     C:\\Users\\USER\\AppData\\Roaming\\nltk_data...\n",
      "[nltk_data]    |   Package kimmo is already up-to-date!\n",
      "[nltk_data]    | Downloading package knbc to\n",
      "[nltk_data]    |     C:\\Users\\USER\\AppData\\Roaming\\nltk_data...\n",
      "[nltk_data]    |   Package knbc is already up-to-date!\n",
      "[nltk_data]    | Downloading package large_grammars to\n",
      "[nltk_data]    |     C:\\Users\\USER\\AppData\\Roaming\\nltk_data...\n",
      "[nltk_data]    |   Package large_grammars is already up-to-date!\n",
      "[nltk_data]    | Downloading package lin_thesaurus to\n",
      "[nltk_data]    |     C:\\Users\\USER\\AppData\\Roaming\\nltk_data...\n",
      "[nltk_data]    |   Package lin_thesaurus is already up-to-date!\n",
      "[nltk_data]    | Downloading package mac_morpho to\n",
      "[nltk_data]    |     C:\\Users\\USER\\AppData\\Roaming\\nltk_data...\n",
      "[nltk_data]    |   Package mac_morpho is already up-to-date!\n",
      "[nltk_data]    | Downloading package machado to\n",
      "[nltk_data]    |     C:\\Users\\USER\\AppData\\Roaming\\nltk_data...\n",
      "[nltk_data]    |   Package machado is already up-to-date!\n",
      "[nltk_data]    | Downloading package masc_tagged to\n",
      "[nltk_data]    |     C:\\Users\\USER\\AppData\\Roaming\\nltk_data...\n",
      "[nltk_data]    |   Package masc_tagged is already up-to-date!\n",
      "[nltk_data]    | Downloading package maxent_ne_chunker to\n",
      "[nltk_data]    |     C:\\Users\\USER\\AppData\\Roaming\\nltk_data...\n",
      "[nltk_data]    |   Package maxent_ne_chunker is already up-to-date!\n",
      "[nltk_data]    | Downloading package maxent_ne_chunker_tab to\n",
      "[nltk_data]    |     C:\\Users\\USER\\AppData\\Roaming\\nltk_data...\n",
      "[nltk_data]    |   Package maxent_ne_chunker_tab is already up-to-\n",
      "[nltk_data]    |       date!\n",
      "[nltk_data]    | Downloading package maxent_treebank_pos_tagger to\n",
      "[nltk_data]    |     C:\\Users\\USER\\AppData\\Roaming\\nltk_data...\n",
      "[nltk_data]    |   Package maxent_treebank_pos_tagger is already up-\n",
      "[nltk_data]    |       to-date!\n",
      "[nltk_data]    | Downloading package maxent_treebank_pos_tagger_tab to\n",
      "[nltk_data]    |     C:\\Users\\USER\\AppData\\Roaming\\nltk_data...\n",
      "[nltk_data]    |   Package maxent_treebank_pos_tagger_tab is already\n",
      "[nltk_data]    |       up-to-date!\n",
      "[nltk_data]    | Downloading package moses_sample to\n",
      "[nltk_data]    |     C:\\Users\\USER\\AppData\\Roaming\\nltk_data...\n",
      "[nltk_data]    |   Package moses_sample is already up-to-date!\n",
      "[nltk_data]    | Downloading package movie_reviews to\n",
      "[nltk_data]    |     C:\\Users\\USER\\AppData\\Roaming\\nltk_data...\n",
      "[nltk_data]    |   Package movie_reviews is already up-to-date!\n",
      "[nltk_data]    | Downloading package mte_teip5 to\n",
      "[nltk_data]    |     C:\\Users\\USER\\AppData\\Roaming\\nltk_data...\n",
      "[nltk_data]    |   Package mte_teip5 is already up-to-date!\n",
      "[nltk_data]    | Downloading package mwa_ppdb to\n",
      "[nltk_data]    |     C:\\Users\\USER\\AppData\\Roaming\\nltk_data...\n",
      "[nltk_data]    |   Package mwa_ppdb is already up-to-date!\n",
      "[nltk_data]    | Downloading package names to\n",
      "[nltk_data]    |     C:\\Users\\USER\\AppData\\Roaming\\nltk_data...\n",
      "[nltk_data]    |   Package names is already up-to-date!\n",
      "[nltk_data]    | Downloading package nombank.1.0 to\n",
      "[nltk_data]    |     C:\\Users\\USER\\AppData\\Roaming\\nltk_data...\n",
      "[nltk_data]    |   Package nombank.1.0 is already up-to-date!\n",
      "[nltk_data]    | Downloading package nonbreaking_prefixes to\n",
      "[nltk_data]    |     C:\\Users\\USER\\AppData\\Roaming\\nltk_data...\n",
      "[nltk_data]    |   Package nonbreaking_prefixes is already up-to-date!\n",
      "[nltk_data]    | Downloading package nps_chat to\n",
      "[nltk_data]    |     C:\\Users\\USER\\AppData\\Roaming\\nltk_data...\n",
      "[nltk_data]    |   Package nps_chat is already up-to-date!\n",
      "[nltk_data]    | Downloading package omw to\n",
      "[nltk_data]    |     C:\\Users\\USER\\AppData\\Roaming\\nltk_data...\n",
      "[nltk_data]    |   Package omw is already up-to-date!\n",
      "[nltk_data]    | Downloading package omw-1.4 to\n",
      "[nltk_data]    |     C:\\Users\\USER\\AppData\\Roaming\\nltk_data...\n",
      "[nltk_data]    |   Package omw-1.4 is already up-to-date!\n",
      "[nltk_data]    | Downloading package opinion_lexicon to\n",
      "[nltk_data]    |     C:\\Users\\USER\\AppData\\Roaming\\nltk_data...\n",
      "[nltk_data]    |   Package opinion_lexicon is already up-to-date!\n",
      "[nltk_data]    | Downloading package panlex_swadesh to\n",
      "[nltk_data]    |     C:\\Users\\USER\\AppData\\Roaming\\nltk_data...\n",
      "[nltk_data]    |   Package panlex_swadesh is already up-to-date!\n",
      "[nltk_data]    | Downloading package paradigms to\n",
      "[nltk_data]    |     C:\\Users\\USER\\AppData\\Roaming\\nltk_data...\n",
      "[nltk_data]    |   Package paradigms is already up-to-date!\n",
      "[nltk_data]    | Downloading package pe08 to\n",
      "[nltk_data]    |     C:\\Users\\USER\\AppData\\Roaming\\nltk_data...\n",
      "[nltk_data]    |   Package pe08 is already up-to-date!\n",
      "[nltk_data]    | Downloading package perluniprops to\n",
      "[nltk_data]    |     C:\\Users\\USER\\AppData\\Roaming\\nltk_data...\n",
      "[nltk_data]    |   Package perluniprops is already up-to-date!\n",
      "[nltk_data]    | Downloading package pil to\n",
      "[nltk_data]    |     C:\\Users\\USER\\AppData\\Roaming\\nltk_data...\n",
      "[nltk_data]    |   Package pil is already up-to-date!\n",
      "[nltk_data]    | Downloading package pl196x to\n",
      "[nltk_data]    |     C:\\Users\\USER\\AppData\\Roaming\\nltk_data...\n",
      "[nltk_data]    |   Package pl196x is already up-to-date!\n",
      "[nltk_data]    | Downloading package porter_test to\n",
      "[nltk_data]    |     C:\\Users\\USER\\AppData\\Roaming\\nltk_data...\n",
      "[nltk_data]    |   Package porter_test is already up-to-date!\n",
      "[nltk_data]    | Downloading package ppattach to\n",
      "[nltk_data]    |     C:\\Users\\USER\\AppData\\Roaming\\nltk_data...\n",
      "[nltk_data]    |   Package ppattach is already up-to-date!\n",
      "[nltk_data]    | Downloading package problem_reports to\n",
      "[nltk_data]    |     C:\\Users\\USER\\AppData\\Roaming\\nltk_data...\n",
      "[nltk_data]    |   Package problem_reports is already up-to-date!\n",
      "[nltk_data]    | Downloading package product_reviews_1 to\n",
      "[nltk_data]    |     C:\\Users\\USER\\AppData\\Roaming\\nltk_data...\n",
      "[nltk_data]    |   Package product_reviews_1 is already up-to-date!\n",
      "[nltk_data]    | Downloading package product_reviews_2 to\n",
      "[nltk_data]    |     C:\\Users\\USER\\AppData\\Roaming\\nltk_data...\n",
      "[nltk_data]    |   Package product_reviews_2 is already up-to-date!\n",
      "[nltk_data]    | Downloading package propbank to\n",
      "[nltk_data]    |     C:\\Users\\USER\\AppData\\Roaming\\nltk_data...\n",
      "[nltk_data]    |   Package propbank is already up-to-date!\n",
      "[nltk_data]    | Downloading package pros_cons to\n",
      "[nltk_data]    |     C:\\Users\\USER\\AppData\\Roaming\\nltk_data...\n",
      "[nltk_data]    |   Package pros_cons is already up-to-date!\n",
      "[nltk_data]    | Downloading package ptb to\n",
      "[nltk_data]    |     C:\\Users\\USER\\AppData\\Roaming\\nltk_data...\n",
      "[nltk_data]    |   Package ptb is already up-to-date!\n",
      "[nltk_data]    | Downloading package punkt to\n",
      "[nltk_data]    |     C:\\Users\\USER\\AppData\\Roaming\\nltk_data...\n",
      "[nltk_data]    |   Package punkt is already up-to-date!\n",
      "[nltk_data]    | Downloading package punkt_tab to\n",
      "[nltk_data]    |     C:\\Users\\USER\\AppData\\Roaming\\nltk_data...\n",
      "[nltk_data]    |   Package punkt_tab is already up-to-date!\n",
      "[nltk_data]    | Downloading package qc to\n",
      "[nltk_data]    |     C:\\Users\\USER\\AppData\\Roaming\\nltk_data...\n",
      "[nltk_data]    |   Package qc is already up-to-date!\n",
      "[nltk_data]    | Downloading package reuters to\n",
      "[nltk_data]    |     C:\\Users\\USER\\AppData\\Roaming\\nltk_data...\n",
      "[nltk_data]    |   Package reuters is already up-to-date!\n",
      "[nltk_data]    | Downloading package rslp to\n",
      "[nltk_data]    |     C:\\Users\\USER\\AppData\\Roaming\\nltk_data...\n",
      "[nltk_data]    |   Package rslp is already up-to-date!\n",
      "[nltk_data]    | Downloading package rte to\n",
      "[nltk_data]    |     C:\\Users\\USER\\AppData\\Roaming\\nltk_data...\n",
      "[nltk_data]    |   Package rte is already up-to-date!\n",
      "[nltk_data]    | Downloading package sample_grammars to\n",
      "[nltk_data]    |     C:\\Users\\USER\\AppData\\Roaming\\nltk_data...\n",
      "[nltk_data]    |   Package sample_grammars is already up-to-date!\n",
      "[nltk_data]    | Downloading package semcor to\n",
      "[nltk_data]    |     C:\\Users\\USER\\AppData\\Roaming\\nltk_data...\n",
      "[nltk_data]    |   Package semcor is already up-to-date!\n",
      "[nltk_data]    | Downloading package senseval to\n",
      "[nltk_data]    |     C:\\Users\\USER\\AppData\\Roaming\\nltk_data...\n",
      "[nltk_data]    |   Package senseval is already up-to-date!\n",
      "[nltk_data]    | Downloading package sentence_polarity to\n",
      "[nltk_data]    |     C:\\Users\\USER\\AppData\\Roaming\\nltk_data...\n",
      "[nltk_data]    |   Package sentence_polarity is already up-to-date!\n",
      "[nltk_data]    | Downloading package sentiwordnet to\n",
      "[nltk_data]    |     C:\\Users\\USER\\AppData\\Roaming\\nltk_data...\n",
      "[nltk_data]    |   Package sentiwordnet is already up-to-date!\n",
      "[nltk_data]    | Downloading package shakespeare to\n",
      "[nltk_data]    |     C:\\Users\\USER\\AppData\\Roaming\\nltk_data...\n",
      "[nltk_data]    |   Package shakespeare is already up-to-date!\n",
      "[nltk_data]    | Downloading package sinica_treebank to\n",
      "[nltk_data]    |     C:\\Users\\USER\\AppData\\Roaming\\nltk_data...\n",
      "[nltk_data]    |   Package sinica_treebank is already up-to-date!\n",
      "[nltk_data]    | Downloading package smultron to\n",
      "[nltk_data]    |     C:\\Users\\USER\\AppData\\Roaming\\nltk_data...\n",
      "[nltk_data]    |   Package smultron is already up-to-date!\n",
      "[nltk_data]    | Downloading package snowball_data to\n",
      "[nltk_data]    |     C:\\Users\\USER\\AppData\\Roaming\\nltk_data...\n",
      "[nltk_data]    |   Package snowball_data is already up-to-date!\n",
      "[nltk_data]    | Downloading package spanish_grammars to\n",
      "[nltk_data]    |     C:\\Users\\USER\\AppData\\Roaming\\nltk_data...\n",
      "[nltk_data]    |   Package spanish_grammars is already up-to-date!\n",
      "[nltk_data]    | Downloading package state_union to\n",
      "[nltk_data]    |     C:\\Users\\USER\\AppData\\Roaming\\nltk_data...\n",
      "[nltk_data]    |   Package state_union is already up-to-date!\n",
      "[nltk_data]    | Downloading package stopwords to\n",
      "[nltk_data]    |     C:\\Users\\USER\\AppData\\Roaming\\nltk_data...\n",
      "[nltk_data]    |   Package stopwords is already up-to-date!\n",
      "[nltk_data]    | Downloading package subjectivity to\n",
      "[nltk_data]    |     C:\\Users\\USER\\AppData\\Roaming\\nltk_data...\n",
      "[nltk_data]    |   Package subjectivity is already up-to-date!\n",
      "[nltk_data]    | Downloading package swadesh to\n",
      "[nltk_data]    |     C:\\Users\\USER\\AppData\\Roaming\\nltk_data...\n",
      "[nltk_data]    |   Package swadesh is already up-to-date!\n",
      "[nltk_data]    | Downloading package switchboard to\n",
      "[nltk_data]    |     C:\\Users\\USER\\AppData\\Roaming\\nltk_data...\n",
      "[nltk_data]    |   Package switchboard is already up-to-date!\n",
      "[nltk_data]    | Downloading package tagsets to\n",
      "[nltk_data]    |     C:\\Users\\USER\\AppData\\Roaming\\nltk_data...\n",
      "[nltk_data]    |   Package tagsets is already up-to-date!\n",
      "[nltk_data]    | Downloading package tagsets_json to\n",
      "[nltk_data]    |     C:\\Users\\USER\\AppData\\Roaming\\nltk_data...\n",
      "[nltk_data]    |   Package tagsets_json is already up-to-date!\n",
      "[nltk_data]    | Downloading package timit to\n",
      "[nltk_data]    |     C:\\Users\\USER\\AppData\\Roaming\\nltk_data...\n",
      "[nltk_data]    |   Package timit is already up-to-date!\n",
      "[nltk_data]    | Downloading package toolbox to\n",
      "[nltk_data]    |     C:\\Users\\USER\\AppData\\Roaming\\nltk_data...\n",
      "[nltk_data]    |   Package toolbox is already up-to-date!\n",
      "[nltk_data]    | Downloading package treebank to\n",
      "[nltk_data]    |     C:\\Users\\USER\\AppData\\Roaming\\nltk_data...\n",
      "[nltk_data]    |   Package treebank is already up-to-date!\n",
      "[nltk_data]    | Downloading package twitter_samples to\n",
      "[nltk_data]    |     C:\\Users\\USER\\AppData\\Roaming\\nltk_data...\n",
      "[nltk_data]    |   Package twitter_samples is already up-to-date!\n",
      "[nltk_data]    | Downloading package udhr to\n",
      "[nltk_data]    |     C:\\Users\\USER\\AppData\\Roaming\\nltk_data...\n",
      "[nltk_data]    |   Package udhr is already up-to-date!\n",
      "[nltk_data]    | Downloading package udhr2 to\n",
      "[nltk_data]    |     C:\\Users\\USER\\AppData\\Roaming\\nltk_data...\n",
      "[nltk_data]    |   Package udhr2 is already up-to-date!\n",
      "[nltk_data]    | Downloading package unicode_samples to\n",
      "[nltk_data]    |     C:\\Users\\USER\\AppData\\Roaming\\nltk_data...\n",
      "[nltk_data]    |   Package unicode_samples is already up-to-date!\n",
      "[nltk_data]    | Downloading package universal_tagset to\n",
      "[nltk_data]    |     C:\\Users\\USER\\AppData\\Roaming\\nltk_data...\n",
      "[nltk_data]    |   Package universal_tagset is already up-to-date!\n",
      "[nltk_data]    | Downloading package universal_treebanks_v20 to\n",
      "[nltk_data]    |     C:\\Users\\USER\\AppData\\Roaming\\nltk_data...\n",
      "[nltk_data]    |   Package universal_treebanks_v20 is already up-to-\n",
      "[nltk_data]    |       date!\n",
      "[nltk_data]    | Downloading package vader_lexicon to\n",
      "[nltk_data]    |     C:\\Users\\USER\\AppData\\Roaming\\nltk_data...\n",
      "[nltk_data]    |   Package vader_lexicon is already up-to-date!\n",
      "[nltk_data]    | Downloading package verbnet to\n",
      "[nltk_data]    |     C:\\Users\\USER\\AppData\\Roaming\\nltk_data...\n",
      "[nltk_data]    |   Package verbnet is already up-to-date!\n",
      "[nltk_data]    | Downloading package verbnet3 to\n",
      "[nltk_data]    |     C:\\Users\\USER\\AppData\\Roaming\\nltk_data...\n",
      "[nltk_data]    |   Package verbnet3 is already up-to-date!\n",
      "[nltk_data]    | Downloading package webtext to\n",
      "[nltk_data]    |     C:\\Users\\USER\\AppData\\Roaming\\nltk_data...\n",
      "[nltk_data]    |   Package webtext is already up-to-date!\n",
      "[nltk_data]    | Downloading package wmt15_eval to\n",
      "[nltk_data]    |     C:\\Users\\USER\\AppData\\Roaming\\nltk_data...\n",
      "[nltk_data]    |   Package wmt15_eval is already up-to-date!\n",
      "[nltk_data]    | Downloading package word2vec_sample to\n",
      "[nltk_data]    |     C:\\Users\\USER\\AppData\\Roaming\\nltk_data...\n",
      "[nltk_data]    |   Package word2vec_sample is already up-to-date!\n",
      "[nltk_data]    | Downloading package wordnet to\n",
      "[nltk_data]    |     C:\\Users\\USER\\AppData\\Roaming\\nltk_data...\n",
      "[nltk_data]    |   Package wordnet is already up-to-date!\n",
      "[nltk_data]    | Downloading package wordnet2021 to\n",
      "[nltk_data]    |     C:\\Users\\USER\\AppData\\Roaming\\nltk_data...\n",
      "[nltk_data]    |   Package wordnet2021 is already up-to-date!\n",
      "[nltk_data]    | Downloading package wordnet2022 to\n",
      "[nltk_data]    |     C:\\Users\\USER\\AppData\\Roaming\\nltk_data...\n",
      "[nltk_data]    |   Package wordnet2022 is already up-to-date!\n",
      "[nltk_data]    | Downloading package wordnet31 to\n",
      "[nltk_data]    |     C:\\Users\\USER\\AppData\\Roaming\\nltk_data...\n",
      "[nltk_data]    |   Package wordnet31 is already up-to-date!\n",
      "[nltk_data]    | Downloading package wordnet_ic to\n",
      "[nltk_data]    |     C:\\Users\\USER\\AppData\\Roaming\\nltk_data...\n",
      "[nltk_data]    |   Package wordnet_ic is already up-to-date!\n",
      "[nltk_data]    | Downloading package words to\n",
      "[nltk_data]    |     C:\\Users\\USER\\AppData\\Roaming\\nltk_data...\n",
      "[nltk_data]    |   Package words is already up-to-date!\n",
      "[nltk_data]    | Downloading package ycoe to\n",
      "[nltk_data]    |     C:\\Users\\USER\\AppData\\Roaming\\nltk_data...\n",
      "[nltk_data]    |   Package ycoe is already up-to-date!\n",
      "[nltk_data]    | \n",
      "[nltk_data]  Done downloading collection all\n"
     ]
    },
    {
     "data": {
      "text/plain": [
       "True"
      ]
     },
     "execution_count": 2,
     "metadata": {},
     "output_type": "execute_result"
    }
   ],
   "source": [
    "nltk.download(\"all\")"
   ]
  },
  {
   "cell_type": "markdown",
   "id": "ffcf92e7",
   "metadata": {},
   "source": [
    "Using Friends dataset from kaggle (https://www.kaggle.com/datasets)"
   ]
  },
  {
   "cell_type": "code",
   "execution_count": 3,
   "id": "bbf4299e4905a481",
   "metadata": {
    "ExecuteTime": {
     "end_time": "2024-12-27T01:40:45.544561Z",
     "start_time": "2024-12-27T01:40:45.514862Z"
    }
   },
   "outputs": [
    {
     "name": "stdout",
     "output_type": "stream",
     "text": [
      "S01E01 Monica Gets A Roommate.txt\n",
      "S01E02 The Sonogram At The End.txt\n",
      "S01E03 The Thumb.txt\n",
      "S01E04 George Stephanopoulos.txt\n",
      "S01E05 The East German Laundry Detergent.txt\n",
      "S01E06 The Butt.txt\n",
      "S01E07 The Blackout.txt\n",
      "S01E08 Nana Dies Twice.txt\n",
      "S01E09 Underdog Gets Away.txt\n",
      "S01E10 The Monkey.txt\n",
      "S01E11 Mrs. Bing.txt\n",
      "S01E12 The Dozen Lasagnas.txt\n",
      "S01E13 The Boobies.txt\n",
      "S01E14 The Candy Hearts.txt\n",
      "S01E15 The Stoned Guy.txt\n",
      "S01E16 The Two Parts Part I.txt\n",
      "S01E17 The Two Parts Part II.txt\n",
      "S01E18 All The Poker.txt\n",
      "S01E19 The Monkey Gets Away.txt\n",
      "S01E20 The Evil Orthodontist.txt\n",
      "S01E21 The Fake Monica.txt\n",
      "S01E22 The Ick Factor.txt\n",
      "S01E23 The Birth.txt\n",
      "S01E24 Rachel Finds Out.txt\n",
      "S02E01 Rosss New Girlfriend.txt\n",
      "S02E02 The Breast Milk.txt\n",
      "S02E03 Heckles Dies.txt\n",
      "S02E04 Phoebes Husband.txt\n",
      "S02E05 Five Steaks And An Eggplant.txt\n",
      "S02E06 The Baby On The Bus.txt\n",
      "S02E07 Ross Finds Out.txt\n",
      "S02E08 The List.txt\n",
      "S02E09 Phoebes Dad.txt\n",
      "S02E10 Russ.txt\n",
      "S02E11 The Lesbian Wedding.txt\n",
      "S02E12-S02E13 The Superbowl.txt\n",
      "S02E14 The Prom Video.txt\n",
      "S02E15 Ross And Rachel... You Know.txt\n",
      "S02E16 Joey Moves Out.txt\n",
      "S02E17 Eddie Moves In.txt\n",
      "S02E18 Dr. Ramoray Dies.txt\n",
      "S02E19 Eddie Wont Go.txt\n",
      "S02E20 Old Yeller Dies.txt\n",
      "S02E21 The Bullies.txt\n",
      "S02E22 The Two Parties.txt\n",
      "S02E23 The Chicken Pox.txt\n",
      "S02E24 Barry And Mindys Wedding.txt\n",
      "S03E01 The Princess Leia Fantasy.txt\n",
      "S03E02 No Ones Ready.txt\n",
      "S03E03 The Jam.txt\n",
      "S03E04 The Metaphorical Tunnel.txt\n",
      "S03E05 Frank Jr..txt\n",
      "S03E06 The Flashback.txt\n",
      "S03E07 The Race Car Bed.txt\n",
      "S03E08 The Giant Poking Device.txt\n",
      "S03E09 The Football.txt\n",
      "S03E10 Rachel Quits.txt\n",
      "S03E11 Chandler Cant Remember Which Sister.txt\n",
      "S03E12 All The Jealousy.txt\n",
      "S03E13 Monica And Richard Are Just Friends.txt\n",
      "S03E14 Phoebes Ex-Partner.txt\n",
      "S03E15 Ross And Rachel Take A Break.txt\n",
      "S03E16 The Morning After.txt\n",
      "S03E17 The Ski Trip.txt\n",
      "S03E18 The Hypnosis Tape.txt\n",
      "S03E19 The Tiny T-Shirt.txt\n",
      "S03E20 The Dollhouse.txt\n",
      "S03E21 The Chick And The Duck.txt\n",
      "S03E22 The Screamer.txt\n",
      "S03E23 Rosss Thing.txt\n",
      "S03E24 The Ultimate Fighting Champion.txt\n",
      "s03E25 At The Beach.txt\n",
      "S04E01 The Jellyfish.txt\n",
      "S04E02 The Cat.txt\n",
      "S04E03 The Cuffs.txt\n",
      "S04E04 The Ballroom Dancing.txt\n",
      "S04E05 Joeys New Girlfriend.txt\n",
      "S04E06 The Dirty Girl.txt\n",
      "S04E07 Chandler Crosses The Line.txt\n",
      "S04E08 Chandler In A Box.txt\n",
      "S04E09 Theyre Going To Party.txt\n",
      "S04E10 The Girl From Poughkeepsie.txt\n",
      "S04E11 Phoebes Uterus.txt\n",
      "S04E12 The Embryos.txt\n",
      "S04E13 Rachels Crush.txt\n",
      "S04E14 Joeys Dirty Day.txt\n",
      "S04E15 All The Rugby.txt\n",
      "S04E16 The Fake Party.txt\n",
      "S04E17 The Free Porn.txt\n",
      "S04E18 Rachels New Dress.txt\n",
      "S04E19 All The Haste.txt\n",
      "S04E20 The Wedding Dresses.txt\n",
      "S04E21 The Invitation.txt\n",
      "S04E22 The Worst Best Man Ever.txt\n",
      "S04E23 Rosss Wedding.txt\n",
      "S05E01 Ross Says Rachel.txt\n",
      "S05E02 All The Kissing.txt\n",
      "S05E03 Hundredth.txt\n",
      "S05E04 Phoebe Hates PBS.txt\n",
      "S05E05 The Kips.txt\n",
      "S05E06 The Yeti.txt\n",
      "S05E07 Ross Moves In.txt\n",
      "S05E08 The Thanksgiving Flashbacks.txt\n",
      "S05E09 Rosss Sandwich.txt\n",
      "S05E10 The Inappropriate Sister.txt\n",
      "S05E11 All The Resolutions.txt\n",
      "S05E12 Chandlers Work Laugh.txt\n",
      "S05E13 Joeys Bag.txt\n",
      "S05E14 Everybody Finds Out.txt\n",
      "S05E15 The Girl Who Hits Joey.txt\n",
      "S05E16 The Cop.txt\n",
      "S05E17 Rachels Inadvertant Kiss.txt\n",
      "S05E18 Rachel Smokes.txt\n",
      "S05E19 Ross Cant Flirt.txt\n",
      "S05E20 The Ride Along.txt\n",
      "S05E21 The Ball.txt\n",
      "S05E22 Joeys Big Break.txt\n",
      "S05E23 In Vegas.txt\n",
      "S06E01 Vegas.txt\n",
      "S06E02 Ross Hugs Rachel.txt\n",
      "S06E03 Rosss Denial.txt\n",
      "S06E04 Joey Loses His Insurance.txt\n",
      "S06E05 Joeys Porsche.txt\n",
      "S06E06 On The Last Night.txt\n",
      "S06E07 Phoebe Runs.txt\n",
      "S06E08 Rosss Teeth.txt\n",
      "S06E09 Ross Got High.txt\n",
      "S06E10 The Routine.txt\n",
      "S06E11 The Apothecary Table.txt\n",
      "S06E12 The Joke.txt\n",
      "S06E13 Rachels Sister.txt\n",
      "S06E14 Chandler Cant Cry.txt\n",
      "S06E15-S06E16 That Could Have Been Part I  II.txt\n",
      "S06E17 Unagi.txt\n",
      "S06E18 Ross Dates A Student.txt\n",
      "S06E19 Joeys Fridge.txt\n",
      "S06E20 Mac And C.H.E.E.S.E..txt\n",
      "S06E21 Ross Meets Elizabeths Dad.txt\n",
      "S06E22 Pauls The Man.txt\n",
      "S06E23 The Ring.txt\n",
      "S06E24 The Proposal Part I  II.txt\n",
      "S07E01 Monicas Thunder.txt\n",
      "S07E02 Rachels Book.txt\n",
      "S07E03 Phoebes Cookies.txt\n",
      "S07E04 Rachels Assistant.txt\n",
      "S07E05 The Engagement Picture.txt\n",
      "S07E06 The Nap Partners.txt\n",
      "S07E07 Rosss Library Book.txt\n",
      "S07E08 Chandler Doesnt Like Dogs.txt\n",
      "S07E09 All The Candy.txt\n",
      "S07E10 The Huliday Armadillo.txt\n",
      "S07E11 All The Cheesecakes.txt\n",
      "S07E12 Theyre Up All Night.txt\n",
      "S07E13 Rosita Dies.txt\n",
      "S07E14 They All Turn Thirty.txt\n",
      "S07E15 Joeys New Brain.txt\n",
      "S07E16 The Truth About London.txt\n",
      "S07E17 The Cheap Wedding Dress.txt\n",
      "S07E18 Joeys Award.txt\n",
      "S07E19 Ross And Monicas Cousin.txt\n",
      "S07E20 Rachels Big Kiss.txt\n",
      "S07E21 The Vows.txt\n",
      "S07E22 Chandlers Dad.txt\n",
      "S07E23 Chandler And Monicas Wedding.txt\n",
      "S07E24 Friends Special The Stuff Youve Never Seen.txt\n",
      "S08E01 I Do.txt\n",
      "S08E02 The Red Sweater.txt\n",
      "S08E03 Rachel Tells....txt\n",
      "S08E04 The Videotape.txt\n",
      "S08E05 Rachels Date.txt\n",
      "S08E06 The Halloween Party.txt\n",
      "S08E07 The Stain.txt\n",
      "S08E08 The Stripper.txt\n",
      "S08E09 The Rumor.txt\n",
      "S08E10 Monicas Boots.txt\n",
      "S08E11 Rosss Step Forward.txt\n",
      "S08E12 Joey Dates Rachel.txt\n",
      "S08E13 Chandler Takes A Bath.txt\n",
      "S08E14 The Secret Closet.txt\n",
      "S08E15 The Birthing Video.txt\n",
      "S08E16 Joey Tells Rachel.txt\n",
      "S08E17 The Tea Leaves.txt\n",
      "S08E18 In Massapequa.txt\n",
      "S08E19 Joeys Interview.txt\n",
      "S08E20 The Baby Shower.txt\n",
      "S08E21 The Cooking Class.txt\n",
      "S08E22 Rachel Is Late.txt\n",
      "S08E23 Rachel Has A Baby.txt\n",
      "S09E01 No One Proposes.txt\n",
      "S09E02 Emma Cries.txt\n",
      "S09E03 The Pediatrician.txt\n",
      "S09E04 The Sharks.txt\n",
      "S09E05 Phoebes Birthday Dinner.txt\n",
      "S09E06 The Male Nanny.txt\n",
      "S09E07 Rosss Inappropriate Song.txt\n",
      "S09E08 Rachels Other Sister.txt\n",
      "S09E09 Rachels Phone Number.txt\n",
      "S09E10 Christmas In Tulsa.txt\n",
      "S09E11 Rachel Goes Back To Work.txt\n",
      "S09E12 Phoebes Rats.txt\n",
      "S09E13 Monica Sings.txt\n",
      "S09E14 The Blind Dates.txt\n",
      "S09E15 The Mugging.txt\n",
      "S09E16 The Boob Job.txt\n",
      "S09E17 The Memorial Service.txt\n",
      "S09E18 The Lottery.txt\n",
      "S09E19 Rachels Dream.txt\n",
      "S09E20 The Soap Opera Party.txt\n",
      "S09E21 The Fertility Test.txt\n",
      "S09E22 The Donor.txt\n",
      "S09E23-S09E24 In Barbados.txt\n",
      "S10E01 Joey and Rachel Kiss.txt\n",
      "S10E02 Ross Is Fine.txt\n",
      "S10E03 Rosss Tan.txt\n",
      "S10E04 The Cake.txt\n",
      "S10E05 Rachels Sister Babysits.txt\n",
      "S10E06 Rosss Grant.txt\n",
      "S10E07 The Home Study.txt\n",
      "S10E08 The Late Thanksgiving.txt\n",
      "S10E09 The Birth Mother.txt\n",
      "S10E10 Chandler Gets Caught.txt\n",
      "S10E11 The Stripper Cries.txt\n",
      "S10E12 Phoebes Wedding.txt\n",
      "S10E13 Joey Speaks French.txt\n",
      "S10E14 Princess Consuela.txt\n",
      "S10E15 Estelle Dies.txt\n",
      "S10E16 Rachels Going Away Party.txt\n",
      "S10E17-S10E18 The Last One Part I  II.txt\n"
     ]
    }
   ],
   "source": [
    "for file in  os.listdir(\"./friends\"):\n",
    "  print(file)"
   ]
  },
  {
   "cell_type": "code",
   "execution_count": 4,
   "id": "99032331457b4f1",
   "metadata": {
    "ExecuteTime": {
     "end_time": "2024-12-27T01:40:45.560601Z",
     "start_time": "2024-12-27T01:40:45.546780Z"
    }
   },
   "outputs": [],
   "source": [
    "from nltk import sent_tokenize\n",
    "from gensim.utils import simple_preprocess"
   ]
  },
  {
   "cell_type": "code",
   "execution_count": 5,
   "id": "53ede60a748400de",
   "metadata": {
    "ExecuteTime": {
     "end_time": "2024-12-27T01:40:45.576125Z",
     "start_time": "2024-12-27T01:40:45.563550Z"
    }
   },
   "outputs": [],
   "source": [
    "from nltk.corpus import stopwords\n",
    "\n",
    "def remove_stopwords(text):\n",
    "    updated = []\n",
    "    for word in text.split():\n",
    "        if word in stopwords.words(\"english\"):\n",
    "            updated.append(\"\")\n",
    "        else:\n",
    "            updated.append(word.strip())\n",
    "    return \" \".join(updated).replace(\"  \",\" \")"
   ]
  },
  {
   "cell_type": "code",
   "execution_count": 6,
   "id": "3b4ac1517471b83b",
   "metadata": {
    "ExecuteTime": {
     "end_time": "2024-12-27T01:40:45.591365Z",
     "start_time": "2024-12-27T01:40:45.578118Z"
    }
   },
   "outputs": [],
   "source": [
    "folder_path=r\"C:\\Users\\USER\\PycharmProjects\\genai-bootcamp\\friends\""
   ]
  },
  {
   "cell_type": "code",
   "execution_count": 7,
   "id": "5d2f7d09f67ded3",
   "metadata": {
    "ExecuteTime": {
     "end_time": "2024-12-27T01:44:48.370596Z",
     "start_time": "2024-12-27T01:40:45.593330Z"
    }
   },
   "outputs": [],
   "source": [
    "story=[]\n",
    "for filename in os.listdir(folder_path):\n",
    "  file_path=os.path.join(folder_path,filename)\n",
    "  with open(file_path,encoding='unicode_escape') as f:\n",
    "    corpus=f.read()\n",
    "  raw_sent=sent_tokenize(corpus)\n",
    "  for sent in raw_sent:\n",
    "    tokens = remove_stopwords(sent)\n",
    "    fin_tokens = simple_preprocess(tokens)\n",
    "    story.append(fin_tokens)\n",
    "\n"
   ]
  },
  {
   "cell_type": "code",
   "execution_count": 8,
   "id": "4427eb119c580f45",
   "metadata": {
    "ExecuteTime": {
     "end_time": "2024-12-27T01:44:48.386062Z",
     "start_time": "2024-12-27T01:44:48.372496Z"
    }
   },
   "outputs": [],
   "source": [
    "custom_model=gensim.models.Word2Vec(window=10,min_count=5,vector_size=150)"
   ]
  },
  {
   "cell_type": "code",
   "execution_count": 9,
   "id": "857274b3ae049726",
   "metadata": {
    "ExecuteTime": {
     "end_time": "2024-12-27T01:44:48.680102Z",
     "start_time": "2024-12-27T01:44:48.389029Z"
    }
   },
   "outputs": [],
   "source": [
    "custom_model.build_vocab(story)"
   ]
  },
  {
   "cell_type": "code",
   "execution_count": 10,
   "id": "e12c6be945517b04",
   "metadata": {
    "ExecuteTime": {
     "end_time": "2024-12-27T01:44:48.695411Z",
     "start_time": "2024-12-27T01:44:48.682121Z"
    }
   },
   "outputs": [
    {
     "data": {
      "text/plain": [
       "116166"
      ]
     },
     "execution_count": 10,
     "metadata": {},
     "output_type": "execute_result"
    }
   ],
   "source": [
    "custom_model.corpus_count"
   ]
  },
  {
   "cell_type": "code",
   "execution_count": 11,
   "id": "24821d35203778bd",
   "metadata": {
    "ExecuteTime": {
     "end_time": "2024-12-27T01:44:48.711033Z",
     "start_time": "2024-12-27T01:44:48.696761Z"
    }
   },
   "outputs": [
    {
     "data": {
      "text/plain": [
       "5"
      ]
     },
     "execution_count": 11,
     "metadata": {},
     "output_type": "execute_result"
    }
   ],
   "source": [
    "custom_model.min_count"
   ]
  },
  {
   "cell_type": "code",
   "execution_count": 12,
   "id": "91aa1a600246c89c",
   "metadata": {
    "ExecuteTime": {
     "end_time": "2024-12-27T01:44:53.546636Z",
     "start_time": "2024-12-27T01:44:48.713019Z"
    }
   },
   "outputs": [
    {
     "data": {
      "text/plain": [
       "(4502942, 5910850)"
      ]
     },
     "execution_count": 12,
     "metadata": {},
     "output_type": "execute_result"
    }
   ],
   "source": [
    "custom_model.train(story,total_examples=custom_model.corpus_count, epochs=10)"
   ]
  },
  {
   "cell_type": "code",
   "execution_count": 13,
   "id": "bfea4f32edbdba3b",
   "metadata": {
    "ExecuteTime": {
     "end_time": "2024-12-27T01:44:53.561861Z",
     "start_time": "2024-12-27T01:44:53.548642Z"
    }
   },
   "outputs": [
    {
     "data": {
      "text/plain": [
       "array([ 0.16305466,  0.07127825, -0.05303128,  0.01914204,  0.07067889,\n",
       "       -0.04232575, -0.05111624,  0.31446123,  0.19725141,  0.2280758 ,\n",
       "        0.12185106, -0.05032719, -0.15747058,  0.08951443, -0.14234689,\n",
       "        0.14248574,  0.32689095,  0.0250886 , -0.20365052,  0.07017355,\n",
       "       -0.36289835,  0.15535825, -0.21135609,  0.07490574,  0.21240048,\n",
       "        0.00252655, -0.18687005,  0.04647009, -0.25430766, -0.05297199,\n",
       "        0.19557597, -0.01294515, -0.02160611, -0.00539822, -0.07872714,\n",
       "       -0.0350606 ,  0.08275443,  0.03240382,  0.27003446, -0.02142488,\n",
       "        0.11469801,  0.04513166, -0.24155827,  0.1076176 ,  0.00700485,\n",
       "        0.13440038,  0.11094652,  0.01568482, -0.02648753,  0.12372306,\n",
       "        0.10997079,  0.10397425,  0.02762051,  0.16439664, -0.15858641,\n",
       "        0.31218076,  0.15640108,  0.17818601,  0.0254872 ,  0.00784761,\n",
       "        0.09975122, -0.11964653, -0.15627252,  0.01927962,  0.12282211,\n",
       "       -0.13406935, -0.24795662, -0.10316299, -0.19985947, -0.08162996,\n",
       "        0.04093301,  0.17118555,  0.0454709 , -0.19031173, -0.13701317,\n",
       "       -0.18588638,  0.05128427, -0.00628982, -0.1571161 ,  0.13271768,\n",
       "       -0.00140628, -0.45529085,  0.09014725,  0.10273822,  0.09532802,\n",
       "       -0.13751642, -0.27215445,  0.05318264,  0.14601973, -0.12753356,\n",
       "       -0.02626079, -0.21702334, -0.21719356,  0.2406568 ,  0.11967393,\n",
       "       -0.10540172,  0.28964207, -0.07566822,  0.02426094,  0.30198878,\n",
       "       -0.00433146, -0.0893508 ,  0.13662921, -0.06247073,  0.15733969,\n",
       "       -0.12039387,  0.12281262,  0.11634044, -0.38557145,  0.01497259,\n",
       "       -0.11011873,  0.13075307, -0.21807979, -0.0852695 , -0.40030068,\n",
       "        0.45816553,  0.24487492,  0.23749375, -0.3324129 , -0.03727518,\n",
       "       -0.00314264, -0.07725839,  0.15051503, -0.02387995, -0.02742207,\n",
       "        0.21052088,  0.14356005,  0.16634645, -0.12300318,  0.09897973,\n",
       "        0.15233226,  0.1292593 , -0.03671207, -0.01940572,  0.13993332,\n",
       "        0.0686016 , -0.12005601, -0.08791133,  0.17411698,  0.13410875,\n",
       "       -0.29405785, -0.01701475,  0.12752156, -0.07820041,  0.17270285,\n",
       "       -0.10572402,  0.08140193,  0.04986968,  0.17050414, -0.14124447],\n",
       "      dtype=float32)"
      ]
     },
     "execution_count": 13,
     "metadata": {},
     "output_type": "execute_result"
    }
   ],
   "source": [
    "custom_model.wv[\"king\"]"
   ]
  },
  {
   "cell_type": "code",
   "execution_count": 14,
   "id": "302788c1b801950d",
   "metadata": {
    "ExecuteTime": {
     "end_time": "2024-12-27T01:44:53.577361Z",
     "start_time": "2024-12-27T01:44:53.567044Z"
    }
   },
   "outputs": [
    {
     "data": {
      "text/plain": [
       "(150,)"
      ]
     },
     "execution_count": 14,
     "metadata": {},
     "output_type": "execute_result"
    }
   ],
   "source": [
    "custom_model.wv[\"king\"].shape"
   ]
  },
  {
   "cell_type": "code",
   "execution_count": 15,
   "id": "bfbd84812d748faa",
   "metadata": {
    "ExecuteTime": {
     "end_time": "2024-12-27T01:44:53.592603Z",
     "start_time": "2024-12-27T01:44:53.579370Z"
    }
   },
   "outputs": [
    {
     "data": {
      "text/plain": [
       "[('ross', 0.6674255132675171),\n",
       " ('joey', 0.654408872127533),\n",
       " ('phoebe', 0.5925695300102234),\n",
       " ('chandler', 0.5899608135223389),\n",
       " ('bedroom', 0.5778990983963013),\n",
       " ('rachel', 0.5759347081184387),\n",
       " ('richard', 0.5261098742485046),\n",
       " ('monicaâ', 0.5200724005699158),\n",
       " ('packing', 0.5070817470550537),\n",
       " ('hall', 0.505301296710968)]"
      ]
     },
     "execution_count": 15,
     "metadata": {},
     "output_type": "execute_result"
    }
   ],
   "source": [
    "custom_model.wv.most_similar(\"monica\")"
   ]
  },
  {
   "cell_type": "code",
   "execution_count": 16,
   "id": "2276dc891bb60acc",
   "metadata": {
    "ExecuteTime": {
     "end_time": "2024-12-27T01:44:53.608075Z",
     "start_time": "2024-12-27T01:44:53.595591Z"
    }
   },
   "outputs": [
    {
     "data": {
      "text/plain": [
       "[('kids', 0.710164487361908),\n",
       " ('life', 0.6859718561172485),\n",
       " ('parents', 0.657699704170227),\n",
       " ('family', 0.6547302007675171),\n",
       " ('rent', 0.6455469727516174),\n",
       " ('yet', 0.6435442566871643),\n",
       " ('together', 0.6377971172332764),\n",
       " ('forever', 0.6345083117485046),\n",
       " ('these', 0.6229115128517151),\n",
       " ('babies', 0.6192209124565125)]"
      ]
     },
     "execution_count": 16,
     "metadata": {},
     "output_type": "execute_result"
    }
   ],
   "source": [
    "custom_model.wv.most_similar(\"friends\")\n"
   ]
  },
  {
   "cell_type": "code",
   "execution_count": 18,
   "id": "f8b96185a0878969",
   "metadata": {
    "ExecuteTime": {
     "end_time": "2024-12-27T01:46:23.434961Z",
     "start_time": "2024-12-27T01:46:23.415484Z"
    }
   },
   "outputs": [
    {
     "data": {
      "text/plain": [
       "[('brother', 0.6710079908370972),\n",
       " ('grandmother', 0.6673616170883179),\n",
       " ('ex', 0.625532865524292),\n",
       " ('friend', 0.6164292693138123),\n",
       " ('husband', 0.6010915040969849),\n",
       " ('has', 0.6006574630737305),\n",
       " ('greatest', 0.5981544256210327),\n",
       " ('grandfather', 0.5942867994308472),\n",
       " ('girl', 0.5933945178985596),\n",
       " ('friendâ', 0.583221435546875)]"
      ]
     },
     "execution_count": 18,
     "metadata": {},
     "output_type": "execute_result"
    }
   ],
   "source": [
    "custom_model.wv.most_similar('sister')"
   ]
  },
  {
   "cell_type": "code",
   "execution_count": 21,
   "id": "e11b80a08f26f35d",
   "metadata": {
    "ExecuteTime": {
     "end_time": "2024-12-27T01:46:59.496658Z",
     "start_time": "2024-12-27T01:46:59.465635Z"
    }
   },
   "outputs": [],
   "source": [
    "from sklearn.decomposition import PCA\n",
    "\n",
    "def create_2d_plot_data(word_vectors, words=None):\n",
    "    # Get vectors\n",
    "    if words is None:\n",
    "        # Use all words\n",
    "        vectors = word_vectors.vectors\n",
    "        words = word_vectors.index_to_key\n",
    "    else:\n",
    "        # Use specified words\n",
    "        vectors = np.vstack([word_vectors[word] for word in words])\n",
    "    \n",
    "    # Reduce to 2 dimensions\n",
    "    pca = PCA(n_components=2)\n",
    "    coords = pca.fit_transform(vectors)\n",
    "    \n",
    "    # Create plot data\n",
    "    plot_data = []\n",
    "    for i, word in enumerate(words):\n",
    "        plot_data.append({\n",
    "            'x': float(coords[i, 0]),\n",
    "            'y': float(coords[i, 1]),\n",
    "            'word': word\n",
    "        })\n",
    "    \n",
    "    return plot_data\n",
    "\n",
    "words = ['rachel', 'monica', 'phoebe', 'joey', 'chandler', 'ross']\n",
    "\n",
    "# Use this list with the previous plotting code:\n",
    "plot_data = create_2d_plot_data(custom_model.wv, words)"
   ]
  },
  {
   "cell_type": "code",
   "execution_count": 23,
   "id": "22edee94b1d3680e",
   "metadata": {
    "ExecuteTime": {
     "end_time": "2024-12-27T01:48:33.340423Z",
     "start_time": "2024-12-27T01:48:33.122469Z"
    }
   },
   "outputs": [
    {
     "data": {
      "image/png": "[encoded data removed]",
      "text/plain": [
       "<Figure size 1000x800 with 1 Axes>"
      ]
     },
     "metadata": {},
     "output_type": "display_data"
    }
   ],
   "source": [
    "\n",
    "# Create the plot\n",
    "plt.figure(figsize=(10,8))\n",
    "\n",
    "# Extract x and y coordinates\n",
    "x_coords = [point['x'] for point in plot_data]\n",
    "y_coords = [point['y'] for point in plot_data]\n",
    "words = [point['word'] for point in plot_data]\n",
    "\n",
    "# Plot points and labels\n",
    "plt.scatter(x_coords, y_coords, alpha=0.5)\n",
    "\n",
    "# Add labels for each point\n",
    "for i, word in enumerate(words):\n",
    "    plt.annotate(\n",
    "        word,\n",
    "        (x_coords[i], y_coords[i]),\n",
    "        xytext=(5, 5),\n",
    "        textcoords='offset points',\n",
    "        fontsize=10\n",
    "    )\n",
    "\n",
    "plt.title(\"Friends Word Vectors - 2D PCA Visualization\")\n",
    "plt.xlabel(\"First Principal Component\")\n",
    "plt.ylabel(\"Second Principal Component\")\n",
    "plt.grid(True, linestyle='--', alpha=0.3)\n",
    "plt.tight_layout()\n",
    "\n",
    "plt.show()"
   ]
  },
  {
   "cell_type": "code",
   "execution_count": null,
   "id": "1bee224fbc8f24ff",
   "metadata": {},
   "outputs": [],
   "source": []
  }
 ],
 "metadata": {
  "kernelspec": {
   "display_name": "Python 3",
   "language": "python",
   "name": "python3"
  },
  "language_info": {
   "codemirror_mode": {
    "name": "ipython",
    "version": 2
   },
   "file_extension": ".py",
   "mimetype": "text/x-python",
   "name": "python",
   "nbconvert_exporter": "python",
   "pygments_lexer": "ipython2",
   "version": "2.7.6"
  }
 },
 "nbformat": 4,
 "nbformat_minor": 5
}
