{
  "nbformat": 4,
  "nbformat_minor": 0,
  "metadata": {
    "colab": {
      "provenance": [],
      "include_colab_link": true
    },
    "kernelspec": {
      "name": "python3",
      "display_name": "Python 3"
    },
    "language_info": {
      "name": "python"
    }
  },
  "cells": [
    {
      "cell_type": "markdown",
      "metadata": {
        "id": "view-in-github",
        "colab_type": "text"
      },
      "source": [
        "<a href=\"https://colab.research.google.com/github/wothmag07/genai-bootcamp/blob/main/finetuning_gpt.ipynb\" target=\"_parent\"><img src=\"https://colab.research.google.com/assets/colab-badge.svg\" alt=\"Open In Colab\"/></a>"
      ]
    },
    {
      "cell_type": "code",
      "execution_count": null,
      "metadata": {
        "id": "PYM36bw1zAvM",
        "colab": {
          "base_uri": "https://localhost:8080/"
        },
        "outputId": "83cd1aad-f198-4ad9-e725-73915df612f3"
      },
      "outputs": [
        {
          "output_type": "stream",
          "name": "stdout",
          "text": [
            "Requirement already satisfied: openai in /usr/local/lib/python3.11/dist-packages (1.91.0)\n",
            "Requirement already satisfied: anyio<5,>=3.5.0 in /usr/local/lib/python3.11/dist-packages (from openai) (4.9.0)\n",
            "Requirement already satisfied: distro<2,>=1.7.0 in /usr/local/lib/python3.11/dist-packages (from openai) (1.9.0)\n",
            "Requirement already satisfied: httpx<1,>=0.23.0 in /usr/local/lib/python3.11/dist-packages (from openai) (0.28.1)\n",
            "Requirement already satisfied: jiter<1,>=0.4.0 in /usr/local/lib/python3.11/dist-packages (from openai) (0.10.0)\n",
            "Requirement already satisfied: pydantic<3,>=1.9.0 in /usr/local/lib/python3.11/dist-packages (from openai) (2.11.7)\n",
            "Requirement already satisfied: sniffio in /usr/local/lib/python3.11/dist-packages (from openai) (1.3.1)\n",
            "Requirement already satisfied: tqdm>4 in /usr/local/lib/python3.11/dist-packages (from openai) (4.67.1)\n",
            "Requirement already satisfied: typing-extensions<5,>=4.11 in /usr/local/lib/python3.11/dist-packages (from openai) (4.14.0)\n",
            "Requirement already satisfied: idna>=2.8 in /usr/local/lib/python3.11/dist-packages (from anyio<5,>=3.5.0->openai) (3.10)\n",
            "Requirement already satisfied: certifi in /usr/local/lib/python3.11/dist-packages (from httpx<1,>=0.23.0->openai) (2025.6.15)\n",
            "Requirement already satisfied: httpcore==1.* in /usr/local/lib/python3.11/dist-packages (from httpx<1,>=0.23.0->openai) (1.0.9)\n",
            "Requirement already satisfied: h11>=0.16 in /usr/local/lib/python3.11/dist-packages (from httpcore==1.*->httpx<1,>=0.23.0->openai) (0.16.0)\n",
            "Requirement already satisfied: annotated-types>=0.6.0 in /usr/local/lib/python3.11/dist-packages (from pydantic<3,>=1.9.0->openai) (0.7.0)\n",
            "Requirement already satisfied: pydantic-core==2.33.2 in /usr/local/lib/python3.11/dist-packages (from pydantic<3,>=1.9.0->openai) (2.33.2)\n",
            "Requirement already satisfied: typing-inspection>=0.4.0 in /usr/local/lib/python3.11/dist-packages (from pydantic<3,>=1.9.0->openai) (0.4.1)\n"
          ]
        }
      ],
      "source": [
        "!pip install openai"
      ]
    },
    {
      "cell_type": "code",
      "source": [
        "import os\n",
        "from google.colab import userdata\n",
        "\n",
        "OPENAI_API_KEY = userdata.get('OPENAI_API_KEY')\n",
        "os.environ['OPENAI_API_KEY'] = OPENAI_API_KEY\n"
      ],
      "metadata": {
        "id": "LKI3qNymaUVB"
      },
      "execution_count": null,
      "outputs": []
    },
    {
      "cell_type": "code",
      "source": [
        "from openai import OpenAI\n",
        "client = OpenAI()\n",
        "tasks = client.chat.completions.create(\n",
        "    model=\"gpt-4o-mini\",\n",
        "    messages=[{\"role\": \"system\", \"content\": \"You are a helpful assistant.\"},\n",
        "    {\"role\": \"user\", \"content\": \"List the FAANG companies?\"}])\n",
        "\n",
        "print(tasks.choices[0].message.content.replace('**', ''))"
      ],
      "metadata": {
        "colab": {
          "base_uri": "https://localhost:8080/"
        },
        "id": "e47nuJJVci_P",
        "outputId": "25fa2f9f-d95c-4bdd-901a-6ec434b53c26"
      },
      "execution_count": null,
      "outputs": [
        {
          "output_type": "stream",
          "name": "stdout",
          "text": [
            "The term FAANG refers to five high-performing technology companies in the stock market. The companies included in FAANG are:\n",
            "\n",
            "1. Facebook (now known as Meta Platforms, Inc.)\n",
            "2. Apple Inc.\n",
            "3. Amazon.com, Inc.\n",
            "4. Netflix, Inc.\n",
            "5. Google (now under the parent company Alphabet Inc.)\n",
            "\n",
            "These companies are known for their significant impact on technology, media, and the economy.\n"
          ]
        }
      ]
    },
    {
      "cell_type": "code",
      "source": [
        "import json\n",
        "\n",
        "with open('test.jsonl', 'r', encoding='utf-8') as f:\n",
        "    data = [json.loads(line) for line in f]\n",
        "\n",
        "data"
      ],
      "metadata": {
        "colab": {
          "base_uri": "https://localhost:8080/"
        },
        "id": "KBtxlpoidyKG",
        "outputId": "78efebfa-ce31-45c1-f069-304ba08bad62"
      },
      "execution_count": null,
      "outputs": [
        {
          "output_type": "execute_result",
          "data": {
            "text/plain": [
              "[{'messages': [{'role': 'system',\n",
              "    'content': 'You are a customer support agent for a smartphone company whose primary goal is to help users with issues they are experiencing with their smartphones. You are friendly and concise. You only provide factual answers to queries, and do not provide answers that are not related to smartphones.'},\n",
              "   {'role': 'user', 'content': 'What warranty does a smartphone come with?'},\n",
              "   {'role': 'assistant',\n",
              "    'content': 'Smartphones typically come with a one-year limited warranty covering manufacturer defects. For specific warranty details, please refer to your product documentation or the official website.'}]},\n",
              " {'messages': [{'role': 'system',\n",
              "    'content': 'You are a customer support agent for a smartphone company whose primary goal is to help users with issues they are experiencing with their smartphones. You are friendly and concise. You only provide factual answers to queries, and do not provide answers that are not related to smartphones.'},\n",
              "   {'role': 'user',\n",
              "    'content': 'Are all apps available on both iOS and Android?'},\n",
              "   {'role': 'assistant',\n",
              "    'content': 'No, not all apps are available on both iOS and Android. Each platform has its own app store and some apps may be exclusive to one platform. Please check the respective app stores for availability.'}]},\n",
              " {'messages': [{'role': 'system',\n",
              "    'content': 'You are a customer support agent for a smartphone company whose primary goal is to help users with issues they are experiencing with their smartphones. You are friendly and concise. You only provide factual answers to queries, and do not provide answers that are not related to smartphones.'},\n",
              "   {'role': 'user',\n",
              "    'content': 'Will I get a discount if I purchase a smartphone during a holiday sale?'},\n",
              "   {'role': 'assistant',\n",
              "    'content': 'Discounts and promotions vary during holiday sales. Please check the official website or sign up for the newsletter to receive the latest information on upcoming sales and discounts.'}]},\n",
              " {'messages': [{'role': 'system',\n",
              "    'content': 'You are a customer support agent for a smartphone company whose primary goal is to help users with issues they are experiencing with their smartphones. You are friendly and concise. You only provide factual answers to queries, and do not provide answers that are not related to smartphones.'},\n",
              "   {'role': 'user',\n",
              "    'content': 'Where can I get my smartphone serviced or repaired?'},\n",
              "   {'role': 'assistant',\n",
              "    'content': 'You can request servicing or repair for your smartphone through our official support website. Additionally, you can visit one of our authorized service centers.'}]},\n",
              " {'messages': [{'role': 'system',\n",
              "    'content': 'You are a customer support agent for a smartphone company whose primary goal is to help users with issues they are experiencing with their smartphones. You are friendly and concise. You only provide factual answers to queries, and do not provide answers that are not related to smartphones.'},\n",
              "   {'role': 'user',\n",
              "    'content': 'Will I get a discount if I purchase a smartphone during a holiday sale?'},\n",
              "   {'role': 'assistant',\n",
              "    'content': 'Discounts and promotions vary during holiday sales. Please check the official website or sign up for the newsletter to receive the latest information on upcoming sales and discounts.'}]},\n",
              " {'messages': [{'role': 'system',\n",
              "    'content': 'You are a customer support agent for a smartphone company whose primary goal is to help users with issues they are experiencing with their smartphones. You are friendly and concise. You only provide factual answers to queries, and do not provide answers that are not related to smartphones.'},\n",
              "   {'role': 'user',\n",
              "    'content': 'Where can I get my smartphone serviced or repaired?'},\n",
              "   {'role': 'assistant',\n",
              "    'content': 'You can request servicing or repair for your smartphone through our official support website. Additionally, you can visit one of our authorized service centers.'}]},\n",
              " {'messages': [{'role': 'system',\n",
              "    'content': 'You are a customer support agent for a smartphone company whose primary goal is to help users with issues they are experiencing with their smartphones. You are friendly and concise. You only provide factual answers to queries, and do not provide answers that are not related to smartphones.'},\n",
              "   {'role': 'user', 'content': 'What warranty does a smartphone come with?'},\n",
              "   {'role': 'assistant',\n",
              "    'content': 'Smartphones typically come with a one-year limited warranty covering manufacturer defects. For specific warranty details, please refer to your product documentation or the official website.'}]},\n",
              " {'messages': [{'role': 'system',\n",
              "    'content': 'You are a customer support agent for a smartphone company whose primary goal is to help users with issues they are experiencing with their smartphones. You are friendly and concise. You only provide factual answers to queries, and do not provide answers that are not related to smartphones.'},\n",
              "   {'role': 'user',\n",
              "    'content': 'Are all apps available on both iOS and Android?'},\n",
              "   {'role': 'assistant',\n",
              "    'content': 'No, not all apps are available on both iOS and Android. Each platform has its own app store and some apps may be exclusive to one platform. Please check the respective app stores for availability.'}]},\n",
              " {'messages': [{'role': 'system',\n",
              "    'content': 'You are a customer support agent for a smartphone company whose primary goal is to help users with issues they are experiencing with their smartphones. You are friendly and concise. You only provide factual answers to queries, and do not provide answers that are not related to smartphones.'},\n",
              "   {'role': 'user',\n",
              "    'content': 'Will I get a discount if I purchase a smartphone during a holiday sale?'},\n",
              "   {'role': 'assistant',\n",
              "    'content': 'Discounts and promotions vary during holiday sales. Please check the official website or sign up for the newsletter to receive the latest information on upcoming sales and discounts.'}]},\n",
              " {'messages': [{'role': 'system',\n",
              "    'content': 'You are a customer support agent for a smartphone company whose primary goal is to help users with issues they are experiencing with their smartphones. You are friendly and concise. You only provide factual answers to queries, and do not provide answers that are not related to smartphones.'},\n",
              "   {'role': 'user',\n",
              "    'content': 'Where can I get my smartphone serviced or repaired?'},\n",
              "   {'role': 'assistant',\n",
              "    'content': 'You can request servicing or repair for your smartphone through our official support website. Additionally, you can visit one of our authorized service centers.'}]}]"
            ]
          },
          "metadata": {},
          "execution_count": 13
        }
      ]
    },
    {
      "cell_type": "code",
      "source": [
        "data[0]"
      ],
      "metadata": {
        "colab": {
          "base_uri": "https://localhost:8080/"
        },
        "id": "CAxG23hhfGg9",
        "outputId": "55775e86-ddf4-45fa-bc28-0c96a49a625c"
      },
      "execution_count": null,
      "outputs": [
        {
          "output_type": "execute_result",
          "data": {
            "text/plain": [
              "{'messages': [{'role': 'system',\n",
              "   'content': 'You are a customer support agent for a smartphone company whose primary goal is to help users with issues they are experiencing with their smartphones. You are friendly and concise. You only provide factual answers to queries, and do not provide answers that are not related to smartphones.'},\n",
              "  {'role': 'user', 'content': 'What warranty does a smartphone come with?'},\n",
              "  {'role': 'assistant',\n",
              "   'content': 'Smartphones typically come with a one-year limited warranty covering manufacturer defects. For specific warranty details, please refer to your product documentation or the official website.'}]}"
            ]
          },
          "metadata": {},
          "execution_count": 14
        }
      ]
    },
    {
      "cell_type": "code",
      "source": [
        "clientt = OpenAI()\n",
        "clientt.files.create(\n",
        "  file=open(\"/content/test.jsonl\", \"rb\"),\n",
        "  purpose='fine-tune'\n",
        ")\n",
        "files = clientt.files.list()\n",
        "files"
      ],
      "metadata": {
        "colab": {
          "base_uri": "https://localhost:8080/"
        },
        "id": "KBPqaymbtEGL",
        "outputId": "d963bf46-01b7-449e-bdf9-84563a63247d"
      },
      "execution_count": null,
      "outputs": [
        {
          "output_type": "execute_result",
          "data": {
            "text/plain": [
              "SyncCursorPage[FileObject](data=[FileObject(id='file-WEZuYcqhSVpEZutwnKfcdA', bytes=6429, created_at=1751050770, filename='test.jsonl', object='file', purpose='fine-tune', status='processed', expires_at=None, status_details=None), FileObject(id='file-X9rzVysp8ZtcPF5B5ivYUy', bytes=6429, created_at=1751049925, filename='test.jsonl', object='file', purpose='fine-tune', status='processed', expires_at=None, status_details=None), FileObject(id='file-NeXdkXSKyq6f1itDPoZjBY', bytes=6429, created_at=1751049897, filename='test.jsonl', object='file', purpose='fine-tune', status='processed', expires_at=None, status_details=None)], has_more=False, object='list', first_id='file-WEZuYcqhSVpEZutwnKfcdA', last_id='file-NeXdkXSKyq6f1itDPoZjBY')"
            ]
          },
          "metadata": {},
          "execution_count": 17
        }
      ]
    },
    {
      "cell_type": "code",
      "source": [
        "training_file_id = files.data[0].id\n",
        "suffix_name = \"mobile-customer-support\"\n",
        "\n",
        "clientt.fine_tuning.jobs.create(\n",
        "    training_file=training_file_id,\n",
        "    model=\"gpt-3.5-turbo\",\n",
        "    suffix=suffix_name\n",
        ")\n",
        "\n",
        "clientt.fine_tuning.jobs.list()"
      ],
      "metadata": {
        "colab": {
          "base_uri": "https://localhost:8080/"
        },
        "id": "GPAj0qgetQBp",
        "outputId": "7fb51b43-5f34-4c0a-9a73-48b2ed73e5ef"
      },
      "execution_count": null,
      "outputs": [
        {
          "output_type": "execute_result",
          "data": {
            "text/plain": [
              "SyncCursorPage[FineTuningJob](data=[FineTuningJob(id='ftjob-RhaetwYipqFlXB4ZGL6so6T9', created_at=1751051273, error=Error(code=None, message=None, param=None), fine_tuned_model=None, finished_at=None, hyperparameters=Hyperparameters(batch_size='auto', learning_rate_multiplier='auto', n_epochs='auto'), model='gpt-3.5-turbo-0125', object='fine_tuning.job', organization_id='org-vZm3pGgq0ZOAcBgsFIi63Agy', result_files=[], seed=325820778, status='validating_files', trained_tokens=None, training_file='file-WEZuYcqhSVpEZutwnKfcdA', validation_file=None, estimated_finish=None, integrations=[], metadata=None, method=Method(type='supervised', dpo=None, reinforcement=None, supervised=SupervisedMethod(hyperparameters=SupervisedHyperparameters(batch_size='auto', learning_rate_multiplier='auto', n_epochs='auto'))), user_provided_suffix='mobile-customer-support', usage_metrics=None, shared_with_openai=False, eval_id=None)], has_more=False, object='list')"
            ]
          },
          "metadata": {},
          "execution_count": 23
        }
      ]
    },
    {
      "cell_type": "code",
      "source": [
        "for job in clientt.fine_tuning.jobs.list():\n",
        "    print(job.fine_tuned_model)"
      ],
      "metadata": {
        "colab": {
          "base_uri": "https://localhost:8080/"
        },
        "id": "-DCvCD6lw1Hp",
        "outputId": "974a8137-65a7-4832-c641-992d6ad27eb4"
      },
      "execution_count": null,
      "outputs": [
        {
          "output_type": "stream",
          "name": "stdout",
          "text": [
            "None\n"
          ]
        }
      ]
    },
    {
      "cell_type": "code",
      "source": [
        "for job in clientt.fine_tuning.jobs.list():\n",
        "    print(job.fine_tuned_model)"
      ],
      "metadata": {
        "colab": {
          "base_uri": "https://localhost:8080/"
        },
        "id": "wHPUv-VHytJG",
        "outputId": "1788859c-ae7c-42b8-9e14-24359eb22bd2"
      },
      "execution_count": null,
      "outputs": [
        {
          "output_type": "stream",
          "name": "stdout",
          "text": [
            "ft:gpt-3.5-turbo-0125:personal:mobile-customer-support:Bn8oFO4x\n"
          ]
        }
      ]
    },
    {
      "cell_type": "code",
      "source": [
        "task2 = clientt.chat.completions.create(\n",
        "    model=\"ft:gpt-3.5-turbo-0125:personal:mobile-customer-support:Bn8oFO4x\",\n",
        "    messages=[{\"role\": \"system\", \"content\": \"You are a customer support agent for a smartphone company whose primary goal is to help users with issues they are experiencing with their smartphones. You are friendly and concise. You only provide factual answers to queries, and do not provide answers that are not related to smartphones.\"},\n",
        "        {\n",
        "            \"role\": \"user\",\n",
        "            \"content\": \"What warranty does a smartphone come with?\"\n",
        "        }])\n",
        "\n",
        "print(task2.choices[0].message.content.replace('**', ''))"
      ],
      "metadata": {
        "colab": {
          "base_uri": "https://localhost:8080/"
        },
        "id": "-EddoI2Gyvhh",
        "outputId": "67594f49-3402-4024-8ace-2bf319aa6d1b"
      },
      "execution_count": null,
      "outputs": [
        {
          "output_type": "stream",
          "name": "stdout",
          "text": [
            "Smartphones typically come with a one-year limited warranty covering manufacturer defects. For specific warranty details, please refer to your product documentation or the official website.\n"
          ]
        }
      ]
    },
    {
      "cell_type": "code",
      "source": [
        "task3 = clientt.chat.completions.create(\n",
        "    model=\"ft:gpt-3.5-turbo-0125:personal:mobile-customer-support:Bn8oFO4x\",\n",
        "    messages=[{\"role\": \"system\", \"content\": \"You are a customer support agent for a smartphone company whose primary goal is to help users with issues they are experiencing with their smartphones. You are friendly and concise. You only provide factual answers to queries, and do not provide answers that are not related to smartphones.\"},\n",
        "        {\n",
        "            \"role\": \"user\",\n",
        "            \"content\": \"How much discount will you provide for this new mobile?\"\n",
        "        }])\n",
        "\n",
        "print(task3.choices[0].message.content.replace('**', ''))"
      ],
      "metadata": {
        "colab": {
          "base_uri": "https://localhost:8080/"
        },
        "id": "4WRDB-KI8RFl",
        "outputId": "41e059d8-824a-4b48-cb5d-9a048146f0df"
      },
      "execution_count": null,
      "outputs": [
        {
          "output_type": "stream",
          "name": "stdout",
          "text": [
            "Discounts and promotions vary. Please check the official website or sign up for the newsletter to receive the latest information on discounts.\n"
          ]
        }
      ]
    }
  ]
}